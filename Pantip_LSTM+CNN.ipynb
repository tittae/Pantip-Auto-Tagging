{
  "nbformat": 4,
  "nbformat_minor": 0,
  "metadata": {
    "colab": {
      "name": "Pantip_LSTM+CNN_Final.ipynb",
      "provenance": [],
      "collapsed_sections": [
        "XvXF5B5D87kg",
        "pUHk43kfrVC9",
        "j12DBhuLulEQ",
        "XW9OFTp79N7w"
      ]
    },
    "kernelspec": {
      "name": "python3",
      "display_name": "Python 3"
    },
    "language_info": {
      "name": "python"
    },
    "accelerator": "GPU"
  },
  "cells": [
    {
      "cell_type": "markdown",
      "metadata": {
        "id": "XvXF5B5D87kg"
      },
      "source": [
        "# Scrape Content"
      ]
    },
    {
      "cell_type": "code",
      "metadata": {
        "id": "uNBMJxAyttoH"
      },
      "source": [
        "Topic_amount = 10000"
      ],
      "execution_count": null,
      "outputs": []
    },
    {
      "cell_type": "code",
      "metadata": {
        "colab": {
          "base_uri": "https://localhost:8080/"
        },
        "id": "BLu7Gjmv7uSx",
        "outputId": "7b4cfbb6-1dfc-431c-edf8-244c997a8038"
      },
      "source": [
        "import requests\n",
        "import pandas as pd\n",
        "from pandas import json_normalize\n",
        " \n",
        "def getPantipList(room, limit, topic_type, next_id, amount) :\n",
        "  global df\n",
        "  topic_count = 0\n",
        "  while topic_count < amount :\n",
        "      url = \"https://pantip.com/api/forum-service/forum/room_topic\"\n",
        "      payload = {'room': room, 'limit': limit, 'topic_type': topic_type , 'next_id': next_id}\n",
        "      headers = {\n",
        "        'Content-Type': 'application/json',\n",
        "        'Pragma': 'no-cache',\n",
        "        'Ptauthorize': 'Basic dGVzdGVyOnRlc3Rlcg==',\n",
        "        'Referer': 'https://pantip.com/forum/blueplanet',\n",
        "        'Cookie': 'pantip_visitc=q72nocniw1np0Sk4vWL; _ga=GA1.2.796963989.1584001890; __gads=ID=a4cea70608d6d1cd:T=1584001890:S=ALNI_MYJloKvjdFj1wduNvq-VzJnIY7uMw; iUUID=d4f5e3437f93aa0ddfa337993ccb01b8; __bTech_p=f1cd9633-73a7-4398-9d97-a74eaafa5602; _em_vt=66960212-eeca-4af0-a3e0-17b470ad97a1-171fa213cc0-9073e329; _em_gc=TH; _em_mb=0; _em_dmp=1591875377356; PHPSESSID=qj6at7a8322tl9a0a975pqmd07; oppa.fuuid=dfd9448b-83a7-4136-8fac-e895b0292f7b; _gid=GA1.2.173407721.1600942418; GED_PLAYLIST_ACTIVITY=W3sidSI6IjNWYUIiLCJ0c2wiOjE2MDEwMDA1MTUsIm52IjowLCJ1cHQiOjE2MDEwMDA0NzksImx0IjoxNjAxMDAwNTAxfV0.; freq.5f47739647e7049101000004=1; innity.dmp.cks.appxs=1; innity.dmp.cks.innity=1; real_referer=%3A%2F%2Fpantip.com%2Fs%2FjDEG2; rlr=40221078; pantip_sessions=0LkFIEJeZVyxugjzeqakuQD8tFadwesmAjDbewDz5rcOlWi36L2rLArGTNzut0KiMiCMuJ6ace4vqZhHLKoS9j9tniB9QU4bhBW7JyHbyMPwSFoq0eM8pxq4JN5kvRVbApVWi39qaIvLTImb94aQ6eR18MvRmPQe8k4AN%2BvuiMW%2FqDfU6VlTdgAIaGHnpInQuq4tGTj%2BTPB%2BbFPpaCVJqzq91K4WnukIvRd6aI6ZlhHLg0zNeEFLLqUyNPh%2F95jec7hEDHOqKVSCspc76dl3tUDbf6LBCaujkXK71ofJeo2hOTw9EeMYZhtg%2Bg%2FRqKh73uZCVweo56VuP%2BVGQbRqzA%3D%3D'\n",
        "      }\n",
        "      response = requests.request(\"GET\", url, headers=headers, params = payload, timeout=5)\n",
        "      data = response.json()\n",
        "      if topic_count == 0 :\n",
        "        df = json_normalize(data['data'])\n",
        "      else :\n",
        "        df = df.append(json_normalize(data['data']))\n",
        "      topic_count = df.topic_id.count()\n",
        "      next_id = data['next_id']\n",
        "      # print(df.explode('tags'))\n",
        "      # print('Topic Count = ', topic_count)\n",
        "  print('Get data completely')\n",
        "  return True\n",
        " \n",
        "if getPantipList('blueplanet', 100, 4, None, Topic_amount) == True :\n",
        "  data = df\n",
        "  # print(data)\n",
        "  data.to_csv(\"topic_list.csv\", index=False)\n",
        "  print('Create file success!!')"
      ],
      "execution_count": null,
      "outputs": [
        {
          "output_type": "stream",
          "text": [
            "Get data completely\n",
            "Create file success!!\n"
          ],
          "name": "stdout"
        }
      ]
    },
    {
      "cell_type": "code",
      "metadata": {
        "id": "96nXB-ii9UJm"
      },
      "source": [
        "import pandas as pd\n",
        "\n",
        "df_topic=pd.read_csv('topic_list.csv')"
      ],
      "execution_count": null,
      "outputs": []
    },
    {
      "cell_type": "code",
      "metadata": {
        "colab": {
          "base_uri": "https://localhost:8080/",
          "height": 501
        },
        "id": "22ivvPNv9VVE",
        "outputId": "6a8f4d49-6bb0-448a-9e13-3a9ac7a6e087"
      },
      "source": [
        "df_topic.head()"
      ],
      "execution_count": null,
      "outputs": [
        {
          "output_type": "execute_result",
          "data": {
            "text/html": [
              "<div>\n",
              "<style scoped>\n",
              "    .dataframe tbody tr th:only-of-type {\n",
              "        vertical-align: middle;\n",
              "    }\n",
              "\n",
              "    .dataframe tbody tr th {\n",
              "        vertical-align: top;\n",
              "    }\n",
              "\n",
              "    .dataframe thead th {\n",
              "        text-align: right;\n",
              "    }\n",
              "</style>\n",
              "<table border=\"1\" class=\"dataframe\">\n",
              "  <thead>\n",
              "    <tr style=\"text-align: right;\">\n",
              "      <th></th>\n",
              "      <th>topic_id</th>\n",
              "      <th>title</th>\n",
              "      <th>topic_type</th>\n",
              "      <th>created_time</th>\n",
              "      <th>thumbnail_url</th>\n",
              "      <th>views_count</th>\n",
              "      <th>comments_count</th>\n",
              "      <th>votes_count</th>\n",
              "      <th>is_cr</th>\n",
              "      <th>is_sr</th>\n",
              "      <th>is_br</th>\n",
              "      <th>tags</th>\n",
              "      <th>author.id</th>\n",
              "      <th>author.name</th>\n",
              "      <th>author.avatar.original</th>\n",
              "      <th>author.avatar.large</th>\n",
              "      <th>author.avatar.medium</th>\n",
              "      <th>author.avatar.small</th>\n",
              "      <th>author.slug</th>\n",
              "    </tr>\n",
              "  </thead>\n",
              "  <tbody>\n",
              "    <tr>\n",
              "      <th>0</th>\n",
              "      <td>40643404</td>\n",
              "      <td>ทริปเกาะเสม็ด 3 วัน 2 คืน วันที่สองที่ทรายแก้ว...</td>\n",
              "      <td>4</td>\n",
              "      <td>2021-04-15T04:12:42Z</td>\n",
              "      <td>https://f.ptcdn.info/162/073/000/qrl7vu2hyyB12...</td>\n",
              "      <td>103</td>\n",
              "      <td>2</td>\n",
              "      <td>0</td>\n",
              "      <td>True</td>\n",
              "      <td>False</td>\n",
              "      <td>False</td>\n",
              "      <td>[{'name': 'เกาะเสม็ด', 'slug': 'เกาะเสม็ด'}, {...</td>\n",
              "      <td>5663815</td>\n",
              "      <td>สมาชิกหมายเลข 5663815</td>\n",
              "      <td>https://p.ptcdn.info/160/012/000/5663815_15780...</td>\n",
              "      <td>https://p.ptcdn.info/160/012/000/5663815_15780...</td>\n",
              "      <td>https://p.ptcdn.info/160/012/000/5663815_15780...</td>\n",
              "      <td>https://p.ptcdn.info/160/012/000/5663815_15780...</td>\n",
              "      <td>/profile/5663815</td>\n",
              "    </tr>\n",
              "    <tr>\n",
              "      <th>1</th>\n",
              "      <td>40643393</td>\n",
              "      <td>…  ธูษิฏา เวลเนส รีสอร์ต ชุมพร  Tusita Wellnes...</td>\n",
              "      <td>4</td>\n",
              "      <td>2021-04-15T04:04:54Z</td>\n",
              "      <td>https://f.ptcdn.info/162/073/000/qrl77y2o59XaJ...</td>\n",
              "      <td>106</td>\n",
              "      <td>8</td>\n",
              "      <td>0</td>\n",
              "      <td>False</td>\n",
              "      <td>True</td>\n",
              "      <td>False</td>\n",
              "      <td>[{'name': 'บันทึกนักเดินทาง', 'slug': 'บันทึกน...</td>\n",
              "      <td>435932</td>\n",
              "      <td>แม่ประนอม นะจ๊ะ</td>\n",
              "      <td>http://p.ptcdn.info/416/000/000/435932_0138661...</td>\n",
              "      <td>https://p.ptcdn.info/416/000/000/435932_013866...</td>\n",
              "      <td>https://p.ptcdn.info/416/000/000/435932_013866...</td>\n",
              "      <td>https://p.ptcdn.info/416/000/000/435932_013866...</td>\n",
              "      <td>/profile/435932</td>\n",
              "    </tr>\n",
              "    <tr>\n",
              "      <th>2</th>\n",
              "      <td>40643087</td>\n",
              "      <td>พาชม สนามกอล์ฟ ศูนย์สร้างทางลำปาง กรมทางหลวง (...</td>\n",
              "      <td>4</td>\n",
              "      <td>2021-04-14T21:33:35Z</td>\n",
              "      <td>https://f.ptcdn.info/160/073/000/qrko9c3s8jTX3...</td>\n",
              "      <td>257</td>\n",
              "      <td>11</td>\n",
              "      <td>1</td>\n",
              "      <td>True</td>\n",
              "      <td>False</td>\n",
              "      <td>False</td>\n",
              "      <td>[{'name': 'กอล์ฟ', 'slug': 'กอล์ฟ'}, {'name': ...</td>\n",
              "      <td>280317</td>\n",
              "      <td>kugar</td>\n",
              "      <td>NaN</td>\n",
              "      <td>https://ptcdn.info/images/avatar_member_defaul...</td>\n",
              "      <td>https://ptcdn.info/images/avatar_member_defaul...</td>\n",
              "      <td>https://ptcdn.info/images/avatar_member_defaul...</td>\n",
              "      <td>/profile/280317</td>\n",
              "    </tr>\n",
              "    <tr>\n",
              "      <th>3</th>\n",
              "      <td>40642333</td>\n",
              "      <td>Copenhagen : Summer days - ฤดูร้อนในโคเปนเฮเกน...</td>\n",
              "      <td>4</td>\n",
              "      <td>2021-04-14T11:26:14Z</td>\n",
              "      <td>https://f.ptcdn.info/157/073/000/qrjx034lzgmO4...</td>\n",
              "      <td>330</td>\n",
              "      <td>13</td>\n",
              "      <td>0</td>\n",
              "      <td>True</td>\n",
              "      <td>False</td>\n",
              "      <td>False</td>\n",
              "      <td>[{'name': 'โคเปนเฮเกน', 'slug': 'โคเปนเฮเกน'},...</td>\n",
              "      <td>3104199</td>\n",
              "      <td>gloygloygloy</td>\n",
              "      <td>http://p.ptcdn.info/838/006/000/3104199_561453...</td>\n",
              "      <td>https://p.ptcdn.info/838/006/000/3104199_56145...</td>\n",
              "      <td>https://p.ptcdn.info/838/006/000/3104199_56145...</td>\n",
              "      <td>https://p.ptcdn.info/838/006/000/3104199_56145...</td>\n",
              "      <td>/profile/3104199</td>\n",
              "    </tr>\n",
              "    <tr>\n",
              "      <th>4</th>\n",
              "      <td>40642260</td>\n",
              "      <td>📌 แจกพิกัด 6 ทุ่งดอกไม้หลากสีทั่วญี่ปุ่น ที่ไม...</td>\n",
              "      <td>4</td>\n",
              "      <td>2021-04-14T10:39:59Z</td>\n",
              "      <td>https://f.ptcdn.info/156/073/000/qrjqsiuqdJhpJ...</td>\n",
              "      <td>120</td>\n",
              "      <td>0</td>\n",
              "      <td>0</td>\n",
              "      <td>True</td>\n",
              "      <td>False</td>\n",
              "      <td>False</td>\n",
              "      <td>[{'name': 'เที่ยวญี่ปุ่น', 'slug': 'เที่ยวญี่ป...</td>\n",
              "      <td>5103160</td>\n",
              "      <td>สมาชิกหมายเลข 5103160</td>\n",
              "      <td>https://p.ptcdn.info/282/011/000/5103160_02660...</td>\n",
              "      <td>https://p.ptcdn.info/282/011/000/5103160_02660...</td>\n",
              "      <td>https://p.ptcdn.info/282/011/000/5103160_02660...</td>\n",
              "      <td>https://p.ptcdn.info/282/011/000/5103160_02660...</td>\n",
              "      <td>/profile/5103160</td>\n",
              "    </tr>\n",
              "  </tbody>\n",
              "</table>\n",
              "</div>"
            ],
            "text/plain": [
              "   topic_id  ...       author.slug\n",
              "0  40643404  ...  /profile/5663815\n",
              "1  40643393  ...   /profile/435932\n",
              "2  40643087  ...   /profile/280317\n",
              "3  40642333  ...  /profile/3104199\n",
              "4  40642260  ...  /profile/5103160\n",
              "\n",
              "[5 rows x 19 columns]"
            ]
          },
          "metadata": {
            "tags": []
          },
          "execution_count": 190
        }
      ]
    },
    {
      "cell_type": "code",
      "metadata": {
        "id": "uPkbbKlIAh2f",
        "colab": {
          "base_uri": "https://localhost:8080/"
        },
        "outputId": "c01ec5f4-149f-4653-cba2-208c6637a13a"
      },
      "source": [
        "from bs4 import BeautifulSoup\n",
        "import requests\n",
        "content  = []\n",
        "topic_id = []\n",
        "for topicId in df_topic['topic_id']:\n",
        "  # print(1, topicId)\n",
        "  url = requests.get(\"https://pantip.com/topic/%s\" % (topicId))\n",
        "  soup = BeautifulSoup(url.content, \"html.parser\")\n",
        "  classToIgnore = [\"review-section\", \"edit-history\"]\n",
        "  for script in soup([\"script\", \"style\"]): # remove all javascript and stylesheet\n",
        "    script.decompose()\n",
        "  for div in soup.find_all('div', class_=lambda x: x in classToIgnore): # remove review-section & edit-history class\n",
        "    div.decompose()\n",
        "  data = soup.find(\"div\",{\"class\":\"display-post-story\"})\n",
        "  content.append(data.text)\n",
        "  topic_id.append(topicId)\n",
        "df_content = pd.DataFrame({'topic_id':topic_id, 'title':df['title'], 'content':content, 'tags': df['tags']})\n",
        "# print(df_content)\n",
        "content_data = df_content\n",
        "# print(content_data)\n",
        "content_data.to_csv(\"pantip_content_list.csv\", index=False)\n",
        "print('Create Content file success!!')"
      ],
      "execution_count": null,
      "outputs": [
        {
          "output_type": "stream",
          "text": [
            "Create Content file success!!\n"
          ],
          "name": "stdout"
        }
      ]
    },
    {
      "cell_type": "code",
      "metadata": {
        "id": "lamx4LoScLWV",
        "colab": {
          "base_uri": "https://localhost:8080/",
          "height": 402
        },
        "outputId": "f0d28da1-d22e-430e-aefa-458c0ad1cb2e"
      },
      "source": [
        "content_data"
      ],
      "execution_count": null,
      "outputs": [
        {
          "output_type": "execute_result",
          "data": {
            "text/html": [
              "<div>\n",
              "<style scoped>\n",
              "    .dataframe tbody tr th:only-of-type {\n",
              "        vertical-align: middle;\n",
              "    }\n",
              "\n",
              "    .dataframe tbody tr th {\n",
              "        vertical-align: top;\n",
              "    }\n",
              "\n",
              "    .dataframe thead th {\n",
              "        text-align: right;\n",
              "    }\n",
              "</style>\n",
              "<table border=\"1\" class=\"dataframe\">\n",
              "  <thead>\n",
              "    <tr style=\"text-align: right;\">\n",
              "      <th></th>\n",
              "      <th>topic_id</th>\n",
              "      <th>title</th>\n",
              "      <th>content</th>\n",
              "      <th>tags</th>\n",
              "    </tr>\n",
              "  </thead>\n",
              "  <tbody>\n",
              "    <tr>\n",
              "      <th>0</th>\n",
              "      <td>40643404</td>\n",
              "      <td>ทริปเกาะเสม็ด 3 วัน 2 คืน วันที่สองที่ทรายแก้ว...</td>\n",
              "      <td>\\r\\n\\t\\t\\t\\t\\t\\t\\t\\t\\t\\t\\t\\t\\t\\t\\t\\tคืนแรกที่เ...</td>\n",
              "      <td>[{'name': 'เกาะเสม็ด', 'slug': 'เกาะเสม็ด'}, {...</td>\n",
              "    </tr>\n",
              "    <tr>\n",
              "      <th>1</th>\n",
              "      <td>40643393</td>\n",
              "      <td>…  ธูษิฏา เวลเนส รีสอร์ต ชุมพร  Tusita Wellnes...</td>\n",
              "      <td>\\r\\n\\t\\t\\t\\t\\t\\t\\t\\t\\t\\t\\t\\t\\t\\t\\t\\t.     ธูษิ...</td>\n",
              "      <td>[{'name': 'บันทึกนักเดินทาง', 'slug': 'บันทึกน...</td>\n",
              "    </tr>\n",
              "    <tr>\n",
              "      <th>2</th>\n",
              "      <td>40643087</td>\n",
              "      <td>พาชม สนามกอล์ฟ ศูนย์สร้างทางลำปาง กรมทางหลวง (...</td>\n",
              "      <td>\\n\\nใบสนร่วงให้ฟีลแผ่นดินสีทอง สวยไปอีกแบบครับ...</td>\n",
              "      <td>[{'name': 'กอล์ฟ', 'slug': 'กอล์ฟ'}, {'name': ...</td>\n",
              "    </tr>\n",
              "    <tr>\n",
              "      <th>3</th>\n",
              "      <td>40642333</td>\n",
              "      <td>Copenhagen : Summer days - ฤดูร้อนในโคเปนเฮเกน...</td>\n",
              "      <td>\\r\\n\\t\\t\\t\\t\\t\\t\\t\\t\\t\\t\\t\\t\\t\\t\\t\\tทริปนี้เป็...</td>\n",
              "      <td>[{'name': 'โคเปนเฮเกน', 'slug': 'โคเปนเฮเกน'},...</td>\n",
              "    </tr>\n",
              "    <tr>\n",
              "      <th>4</th>\n",
              "      <td>40642260</td>\n",
              "      <td>📌 แจกพิกัด 6 ทุ่งดอกไม้หลากสีทั่วญี่ปุ่น ที่ไม...</td>\n",
              "      <td>\\nถ้าพูดถึงดอกไม้ของญี่ปุ่นหลายๆคนคงจะนึกถึงดอ...</td>\n",
              "      <td>[{'name': 'เที่ยวญี่ปุ่น', 'slug': 'เที่ยวญี่ป...</td>\n",
              "    </tr>\n",
              "    <tr>\n",
              "      <th>...</th>\n",
              "      <td>...</td>\n",
              "      <td>...</td>\n",
              "      <td>...</td>\n",
              "      <td>...</td>\n",
              "    </tr>\n",
              "    <tr>\n",
              "      <th>95</th>\n",
              "      <td>38727277</td>\n",
              "      <td>รีวิวกระทู้แต่ละประเทศ Natherland - Belgium - ...</td>\n",
              "      <td>\\r\\n\\t\\t\\t\\t\\t\\t\\t\\t\\t\\t\\t\\t\\t\\t\\t\\tตอน.3 ลักเ...</td>\n",
              "      <td>[{'name': 'เที่ยวต่างประเทศ', 'slug': 'เที่ยวต...</td>\n",
              "    </tr>\n",
              "    <tr>\n",
              "      <th>96</th>\n",
              "      <td>38727267</td>\n",
              "      <td>รีวิวกระทู้แต่ละประเทศ Natherland - Belgium - ...</td>\n",
              "      <td>\\r\\n\\t\\t\\t\\t\\t\\t\\t\\t\\t\\t\\t\\t\\t\\t\\t\\tตอน.2  Bel...</td>\n",
              "      <td>[{'name': 'สถานที่ท่องเที่ยวต่างประเทศ', 'slug...</td>\n",
              "    </tr>\n",
              "    <tr>\n",
              "      <th>97</th>\n",
              "      <td>38727253</td>\n",
              "      <td>รีวิวกระทู้แต่ละประเทศ Natherland - Belgium - ...</td>\n",
              "      <td>\\r\\n\\t\\t\\t\\t\\t\\t\\t\\t\\t\\t\\t\\t\\t\\t\\t\\t\"ใครแวะมาอ...</td>\n",
              "      <td>[{'name': 'เที่ยวต่างประเทศ', 'slug': 'เที่ยวต...</td>\n",
              "    </tr>\n",
              "    <tr>\n",
              "      <th>98</th>\n",
              "      <td>38727028</td>\n",
              "      <td>ภูเก็ต - ฮองกง ฉบับคนงบน้อยเที่ยวทั่วฮองกง</td>\n",
              "      <td>\\r\\n\\t\\t\\t\\t\\t\\t\\t\\t\\t\\t\\t\\t\\t\\t\\t\\t😀เริ่มจากเ...</td>\n",
              "      <td>[{'name': 'เที่ยวต่างประเทศ', 'slug': 'เที่ยวต...</td>\n",
              "    </tr>\n",
              "    <tr>\n",
              "      <th>99</th>\n",
              "      <td>38726809</td>\n",
              "      <td>ตลาดน้ำบนน้ำตกกวางโจว</td>\n",
              "      <td>\\r\\n\\t\\t\\t\\t\\t\\t\\t\\t\\t\\t\\t\\t\\t\\t\\t\\tสวัสดีค่ะช...</td>\n",
              "      <td>[{'name': 'เที่ยวตลาดน้ำ', 'slug': 'เที่ยวตลาด...</td>\n",
              "    </tr>\n",
              "  </tbody>\n",
              "</table>\n",
              "<p>10000 rows × 4 columns</p>\n",
              "</div>"
            ],
            "text/plain": [
              "    topic_id  ...                                               tags\n",
              "0   40643404  ...  [{'name': 'เกาะเสม็ด', 'slug': 'เกาะเสม็ด'}, {...\n",
              "1   40643393  ...  [{'name': 'บันทึกนักเดินทาง', 'slug': 'บันทึกน...\n",
              "2   40643087  ...  [{'name': 'กอล์ฟ', 'slug': 'กอล์ฟ'}, {'name': ...\n",
              "3   40642333  ...  [{'name': 'โคเปนเฮเกน', 'slug': 'โคเปนเฮเกน'},...\n",
              "4   40642260  ...  [{'name': 'เที่ยวญี่ปุ่น', 'slug': 'เที่ยวญี่ป...\n",
              "..       ...  ...                                                ...\n",
              "95  38727277  ...  [{'name': 'เที่ยวต่างประเทศ', 'slug': 'เที่ยวต...\n",
              "96  38727267  ...  [{'name': 'สถานที่ท่องเที่ยวต่างประเทศ', 'slug...\n",
              "97  38727253  ...  [{'name': 'เที่ยวต่างประเทศ', 'slug': 'เที่ยวต...\n",
              "98  38727028  ...  [{'name': 'เที่ยวต่างประเทศ', 'slug': 'เที่ยวต...\n",
              "99  38726809  ...  [{'name': 'เที่ยวตลาดน้ำ', 'slug': 'เที่ยวตลาด...\n",
              "\n",
              "[10000 rows x 4 columns]"
            ]
          },
          "metadata": {
            "tags": []
          },
          "execution_count": 192
        }
      ]
    },
    {
      "cell_type": "code",
      "metadata": {
        "colab": {
          "base_uri": "https://localhost:8080/"
        },
        "id": "ODb0fPcGRRRz",
        "outputId": "f01f15d0-9104-4fff-eccb-67f31039b0b2"
      },
      "source": [
        "content_data.shape"
      ],
      "execution_count": null,
      "outputs": [
        {
          "output_type": "execute_result",
          "data": {
            "text/plain": [
              "(10000, 4)"
            ]
          },
          "metadata": {
            "tags": []
          },
          "execution_count": 193
        }
      ]
    },
    {
      "cell_type": "markdown",
      "metadata": {
        "id": "_wCLsk2JFeh_"
      },
      "source": [
        "# Preporcess"
      ]
    },
    {
      "cell_type": "markdown",
      "metadata": {
        "id": "vhmlcJ7XNpoQ"
      },
      "source": [
        "## Load Data"
      ]
    },
    {
      "cell_type": "code",
      "metadata": {
        "id": "IjGwq9LCXtaC"
      },
      "source": [
        "import requests\n",
        "import pandas as pd\n",
        "import numpy as np\n",
        "from pandas import json_normalize\n",
        "import json\n",
        "from collections import Counter\n"
      ],
      "execution_count": null,
      "outputs": []
    },
    {
      "cell_type": "code",
      "metadata": {
        "id": "keUdhGGzRw84"
      },
      "source": [
        "import tensorflow as tf\n",
        "from tensorflow.keras.preprocessing import sequence\n",
        "from tensorflow.keras.models import Sequential, Model\n",
        "from tensorflow.keras.layers import GRU, Dropout\n",
        "from tensorflow.keras.models import load_model\n",
        "from tensorflow.keras.layers import Embedding, Reshape, Activation, Input, Dense,Flatten, SpatialDropout1D, concatenate\n",
        "from tensorflow.keras.layers import GRU,Reshape,TimeDistributed,Bidirectional,Dropout,Masking,Conv1D, Conv2D,MaxPool2D,GlobalAveragePooling1D, GlobalMaxPooling1D\n",
        "from tensorflow.python.keras.layers.merge import Dot\n",
        "from tensorflow.keras.utils import plot_model\n",
        "from tensorflow.python.keras.utils import np_utils\n",
        "from tensorflow.python.keras.utils.data_utils import get_file\n",
        "from tensorflow.python.keras.utils.np_utils import to_categorical\n",
        "from tensorflow.keras.preprocessing.sequence import skipgrams\n",
        "from tensorflow.keras.preprocessing import sequence\n",
        "from tensorflow.keras import backend as K\n",
        "from tensorflow.keras.optimizers import Adam"
      ],
      "execution_count": null,
      "outputs": []
    },
    {
      "cell_type": "code",
      "metadata": {
        "id": "5YHyQLsHggBd"
      },
      "source": [
        "!wget -q http://www.arts.chula.ac.th/ling/wp-content/uploads/TH-Sarabun_Chula1.1.zip -O font.zip\n",
        "!unzip -qj font.zip TH-Sarabun_Chula1.1/THSarabunChula-Regular.ttf\n",
        "import matplotlib as mpl\n",
        "mpl.font_manager.fontManager.addfont('THSarabunChula-Regular.ttf')\n",
        "mpl.rc('font', family='TH Sarabun Chula')"
      ],
      "execution_count": null,
      "outputs": []
    },
    {
      "cell_type": "code",
      "metadata": {
        "id": "Bg_j3s6HSHIZ",
        "colab": {
          "base_uri": "https://localhost:8080/"
        },
        "outputId": "c806b537-394d-4e0a-e615-a6b1a1134906"
      },
      "source": [
        "!gdown --id 1Ui3tGidXbHfEvTJLSRZpcxXlohWFM_hz"
      ],
      "execution_count": null,
      "outputs": [
        {
          "output_type": "stream",
          "text": [
            "Downloading...\n",
            "From: https://drive.google.com/uc?id=1Ui3tGidXbHfEvTJLSRZpcxXlohWFM_hz\n",
            "To: /content/pantip_content_list.csv\n",
            "81.4MB [00:01, 61.8MB/s]\n"
          ],
          "name": "stdout"
        }
      ]
    },
    {
      "cell_type": "code",
      "metadata": {
        "id": "sVELIT0FM-np"
      },
      "source": [
        "df_content = pd.read_csv(\"pantip_content_list.csv\")"
      ],
      "execution_count": null,
      "outputs": []
    },
    {
      "cell_type": "code",
      "metadata": {
        "colab": {
          "base_uri": "https://localhost:8080/",
          "height": 204
        },
        "id": "Sc84Rs2HXD_P",
        "outputId": "d65cce43-0f1b-4129-9624-8f933e6bee51"
      },
      "source": [
        "df_content.head()"
      ],
      "execution_count": null,
      "outputs": [
        {
          "output_type": "execute_result",
          "data": {
            "text/html": [
              "<div>\n",
              "<style scoped>\n",
              "    .dataframe tbody tr th:only-of-type {\n",
              "        vertical-align: middle;\n",
              "    }\n",
              "\n",
              "    .dataframe tbody tr th {\n",
              "        vertical-align: top;\n",
              "    }\n",
              "\n",
              "    .dataframe thead th {\n",
              "        text-align: right;\n",
              "    }\n",
              "</style>\n",
              "<table border=\"1\" class=\"dataframe\">\n",
              "  <thead>\n",
              "    <tr style=\"text-align: right;\">\n",
              "      <th></th>\n",
              "      <th>topic_id</th>\n",
              "      <th>title</th>\n",
              "      <th>content</th>\n",
              "      <th>tags</th>\n",
              "    </tr>\n",
              "  </thead>\n",
              "  <tbody>\n",
              "    <tr>\n",
              "      <th>0</th>\n",
              "      <td>40643404</td>\n",
              "      <td>ทริปเกาะเสม็ด 3 วัน 2 คืน วันที่สองที่ทรายแก้ว...</td>\n",
              "      <td>\\r\\n\\t\\t\\t\\t\\t\\t\\t\\t\\t\\t\\t\\t\\t\\t\\t\\tคืนแรกที่เ...</td>\n",
              "      <td>[{'name': 'เกาะเสม็ด', 'slug': 'เกาะเสม็ด'}, {...</td>\n",
              "    </tr>\n",
              "    <tr>\n",
              "      <th>1</th>\n",
              "      <td>40643393</td>\n",
              "      <td>…  ธูษิฏา เวลเนส รีสอร์ต ชุมพร  Tusita Wellnes...</td>\n",
              "      <td>\\r\\n\\t\\t\\t\\t\\t\\t\\t\\t\\t\\t\\t\\t\\t\\t\\t\\t.     ธูษิ...</td>\n",
              "      <td>[{'name': 'บันทึกนักเดินทาง', 'slug': 'บันทึกน...</td>\n",
              "    </tr>\n",
              "    <tr>\n",
              "      <th>2</th>\n",
              "      <td>40643087</td>\n",
              "      <td>พาชม สนามกอล์ฟ ศูนย์สร้างทางลำปาง กรมทางหลวง (...</td>\n",
              "      <td>\\n\\nใบสนร่วงให้ฟีลแผ่นดินสีทอง สวยไปอีกแบบครับ...</td>\n",
              "      <td>[{'name': 'กอล์ฟ', 'slug': 'กอล์ฟ'}, {'name': ...</td>\n",
              "    </tr>\n",
              "    <tr>\n",
              "      <th>3</th>\n",
              "      <td>40642333</td>\n",
              "      <td>Copenhagen : Summer days - ฤดูร้อนในโคเปนเฮเกน...</td>\n",
              "      <td>\\r\\n\\t\\t\\t\\t\\t\\t\\t\\t\\t\\t\\t\\t\\t\\t\\t\\tทริปนี้เป็...</td>\n",
              "      <td>[{'name': 'โคเปนเฮเกน', 'slug': 'โคเปนเฮเกน'},...</td>\n",
              "    </tr>\n",
              "    <tr>\n",
              "      <th>4</th>\n",
              "      <td>40642260</td>\n",
              "      <td>📌 แจกพิกัด 6 ทุ่งดอกไม้หลากสีทั่วญี่ปุ่น ที่ไม...</td>\n",
              "      <td>\\nถ้าพูดถึงดอกไม้ของญี่ปุ่นหลายๆคนคงจะนึกถึงดอ...</td>\n",
              "      <td>[{'name': 'เที่ยวญี่ปุ่น', 'slug': 'เที่ยวญี่ป...</td>\n",
              "    </tr>\n",
              "  </tbody>\n",
              "</table>\n",
              "</div>"
            ],
            "text/plain": [
              "   topic_id  ...                                               tags\n",
              "0  40643404  ...  [{'name': 'เกาะเสม็ด', 'slug': 'เกาะเสม็ด'}, {...\n",
              "1  40643393  ...  [{'name': 'บันทึกนักเดินทาง', 'slug': 'บันทึกน...\n",
              "2  40643087  ...  [{'name': 'กอล์ฟ', 'slug': 'กอล์ฟ'}, {'name': ...\n",
              "3  40642333  ...  [{'name': 'โคเปนเฮเกน', 'slug': 'โคเปนเฮเกน'},...\n",
              "4  40642260  ...  [{'name': 'เที่ยวญี่ปุ่น', 'slug': 'เที่ยวญี่ป...\n",
              "\n",
              "[5 rows x 4 columns]"
            ]
          },
          "metadata": {
            "tags": []
          },
          "execution_count": 10
        }
      ]
    },
    {
      "cell_type": "markdown",
      "metadata": {
        "id": "WmhIVRqvnEjR"
      },
      "source": [
        "## Tag (Y) Preprocessing"
      ]
    },
    {
      "cell_type": "code",
      "metadata": {
        "id": "rPxTTf7fFSbq"
      },
      "source": [
        "tag_count = []\n",
        "tags_temp = []\n",
        "\n",
        "i = 0\n",
        "for index, row in df_content.iterrows():\n",
        "  tags = json.loads(json.dumps(eval(row['tags'])))\n",
        "  temp = []\n",
        "  for tag in tags:\n",
        "    temp.append(tag['slug'])\n",
        "    tag_count.append(tag['slug'])\n",
        "  tags_temp.append(temp)\n",
        "\n",
        "df_content['tags'] = tags_temp\n",
        "tag_count = Counter(tag_count)"
      ],
      "execution_count": null,
      "outputs": []
    },
    {
      "cell_type": "code",
      "metadata": {
        "colab": {
          "base_uri": "https://localhost:8080/"
        },
        "id": "V_aLJYOkAGFp",
        "outputId": "0b3808c6-f292-423e-ce1a-7c1fba319f19"
      },
      "source": [
        "n_tags = int(0.05*len(tag_count))\n",
        "n_tags"
      ],
      "execution_count": null,
      "outputs": [
        {
          "output_type": "execute_result",
          "data": {
            "text/plain": [
              "70"
            ]
          },
          "metadata": {
            "tags": []
          },
          "execution_count": 12
        }
      ]
    },
    {
      "cell_type": "code",
      "metadata": {
        "id": "mKb9-S1Kq21O",
        "colab": {
          "base_uri": "https://localhost:8080/"
        },
        "outputId": "adacf2b5-f5c0-412c-ca49-e7a449121bba"
      },
      "source": [
        "Top_tags = sorted(tag_count.items(), key=lambda item: item[1], reverse=True)[:n_tags]\n",
        "print(Top_tags)"
      ],
      "execution_count": null,
      "outputs": [
        {
          "output_type": "stream",
          "text": [
            "[('บันทึกนักเดินทาง', 5099), ('เที่ยวไทย', 2957), ('เที่ยวต่างประเทศ', 2443), ('สถานที่ท่องเที่ยวต่างประเทศ', 1676), ('สถานที่ท่องเที่ยวในประเทศ', 1651), ('Backpack', 1435), ('โรงแรมรีสอร์ท', 1201), ('ภาพถ่ายทิวทัศน์', 1106), ('เที่ยวทะเล', 1067), ('เที่ยวญี่ปุ่น', 950), ('เที่ยวภูเขา', 833), ('ท่องเที่ยว', 727), ('สถานที่ท่องเที่ยว', 582), ('นักท่องเที่ยว', 551), ('One_Day_Trip', 535), ('ร้านอาหาร', 501), ('โรงแรมรีสอร์ทไทย', 467), ('ภาพถ่ายจากกล้องโทรศัพท์', 454), ('คาเฟ่_(Cafe)', 452), ('ประเทศญี่ปุ่น', 450), ('เที่ยวเชิงอนุรักษ์', 442), ('ภาพถ่าย', 426), ('สถานที่ท่องเที่ยวกรุงเทพฯ', 407), ('สถานที่ท่องเที่ยวสำหรับครอบครัว', 393), ('Slow_Life', 389), ('เที่ยวยุโรป', 361), ('เดินป่า', 332), ('แผนการเดินทางและท่องเที่ยว', 330), ('จังหวัดเชียงใหม่', 280), ('ร้านกาแฟ', 260), ('สายการบิน', 245), ('การท่องเที่ยวแห่งประเทศไทย', 214), ('โตเกียว', 193), ('พัทยา', 185), ('เที่ยววัด', 180), ('เที่ยวน้ำตก', 179), ('จังหวัดภูเก็ต', 174), ('ที่พัก', 166), ('โฮมสเตย์', 162), ('สถานที่ถ่ายรูป', 153), ('อาหาร', 149), ('เที่ยวจีน', 148), ('ภาคเหนือ', 142), ('รถไฟ', 130), ('จังหวัดกาญจนบุรี', 129), ('ดำน้ำ', 129), ('โอซาก้า', 127), ('มอเตอร์ไซค์', 126), ('ประเทศเวียดนาม', 122), ('จังหวัดน่าน', 121), ('โรงแรมรีสอร์ทต่างประเทศ', 119), ('ทริปถ่ายรูป', 118), ('คันไซ', 118), ('เที่ยวเกาหลี', 118), ('เที่ยวเวียดนาม', 116), ('กิจกรรมท่องเที่ยว', 112), ('อุทยานแห่งชาติ', 112), ('สนามบิน', 108), ('จังหวัดชลบุรี', 100), ('อาหารญี่ปุ่น', 99), ('ประเทศจีน', 99), ('ฮอกไกโด', 96), ('หัวหิน', 96), ('เที่ยวอินเดีย', 91), ('เที่ยวไต้หวัน', 90), ('จังหวัดพังงา', 88), ('เขาใหญ่', 86), ('ไต้หวัน', 85), ('วีซ่า', 84), ('ประเทศสิงคโปร์', 83)]\n"
          ],
          "name": "stdout"
        }
      ]
    },
    {
      "cell_type": "code",
      "metadata": {
        "id": "VkC10_t5seJn"
      },
      "source": [
        "idx_to_tag = {}\n",
        "tag_to_idx = {}\n",
        "i = 0\n",
        "for tag in Top_tags:\n",
        "  if tag[0] not in tag_to_idx:\n",
        "    tag_to_idx[tag[0]] = i\n",
        "    i += 1\n",
        "idx_to_tag = {v: k for k, v in tag_to_idx.items()}"
      ],
      "execution_count": null,
      "outputs": []
    },
    {
      "cell_type": "code",
      "metadata": {
        "colab": {
          "base_uri": "https://localhost:8080/"
        },
        "id": "NB5TKTBPtL6O",
        "outputId": "3ae15a55-5cd5-45d4-da27-f6924b6f8398"
      },
      "source": [
        "print(idx_to_tag)"
      ],
      "execution_count": null,
      "outputs": [
        {
          "output_type": "stream",
          "text": [
            "{0: 'บันทึกนักเดินทาง', 1: 'เที่ยวไทย', 2: 'เที่ยวต่างประเทศ', 3: 'สถานที่ท่องเที่ยวต่างประเทศ', 4: 'สถานที่ท่องเที่ยวในประเทศ', 5: 'Backpack', 6: 'โรงแรมรีสอร์ท', 7: 'ภาพถ่ายทิวทัศน์', 8: 'เที่ยวทะเล', 9: 'เที่ยวญี่ปุ่น', 10: 'เที่ยวภูเขา', 11: 'ท่องเที่ยว', 12: 'สถานที่ท่องเที่ยว', 13: 'นักท่องเที่ยว', 14: 'One_Day_Trip', 15: 'ร้านอาหาร', 16: 'โรงแรมรีสอร์ทไทย', 17: 'ภาพถ่ายจากกล้องโทรศัพท์', 18: 'คาเฟ่_(Cafe)', 19: 'ประเทศญี่ปุ่น', 20: 'เที่ยวเชิงอนุรักษ์', 21: 'ภาพถ่าย', 22: 'สถานที่ท่องเที่ยวกรุงเทพฯ', 23: 'สถานที่ท่องเที่ยวสำหรับครอบครัว', 24: 'Slow_Life', 25: 'เที่ยวยุโรป', 26: 'เดินป่า', 27: 'แผนการเดินทางและท่องเที่ยว', 28: 'จังหวัดเชียงใหม่', 29: 'ร้านกาแฟ', 30: 'สายการบิน', 31: 'การท่องเที่ยวแห่งประเทศไทย', 32: 'โตเกียว', 33: 'พัทยา', 34: 'เที่ยววัด', 35: 'เที่ยวน้ำตก', 36: 'จังหวัดภูเก็ต', 37: 'ที่พัก', 38: 'โฮมสเตย์', 39: 'สถานที่ถ่ายรูป', 40: 'อาหาร', 41: 'เที่ยวจีน', 42: 'ภาคเหนือ', 43: 'รถไฟ', 44: 'จังหวัดกาญจนบุรี', 45: 'ดำน้ำ', 46: 'โอซาก้า', 47: 'มอเตอร์ไซค์', 48: 'ประเทศเวียดนาม', 49: 'จังหวัดน่าน', 50: 'โรงแรมรีสอร์ทต่างประเทศ', 51: 'ทริปถ่ายรูป', 52: 'คันไซ', 53: 'เที่ยวเกาหลี', 54: 'เที่ยวเวียดนาม', 55: 'กิจกรรมท่องเที่ยว', 56: 'อุทยานแห่งชาติ', 57: 'สนามบิน', 58: 'จังหวัดชลบุรี', 59: 'อาหารญี่ปุ่น', 60: 'ประเทศจีน', 61: 'ฮอกไกโด', 62: 'หัวหิน', 63: 'เที่ยวอินเดีย', 64: 'เที่ยวไต้หวัน', 65: 'จังหวัดพังงา', 66: 'เขาใหญ่', 67: 'ไต้หวัน', 68: 'วีซ่า', 69: 'ประเทศสิงคโปร์'}\n"
          ],
          "name": "stdout"
        }
      ]
    },
    {
      "cell_type": "code",
      "metadata": {
        "id": "Xo0nmelAkAC4"
      },
      "source": [
        "tags_temp = []\n",
        "\n",
        "for index, row in df_content.iterrows():\n",
        "  \n",
        "  temp = []\n",
        "  for tag in row['tags']:\n",
        "    # print(tag)\n",
        "    if tag in tag_to_idx:\n",
        "      temp.append(tag_to_idx[tag])\n",
        "  tags_temp.append(temp)\n",
        "  \n",
        "df_content['idx_tags'] = tags_temp"
      ],
      "execution_count": null,
      "outputs": []
    },
    {
      "cell_type": "code",
      "metadata": {
        "colab": {
          "base_uri": "https://localhost:8080/",
          "height": 204
        },
        "id": "UXDB8hd9CBRH",
        "outputId": "4c0a7315-e819-4c47-dbdc-3d13edebf507"
      },
      "source": [
        "df_content.head()"
      ],
      "execution_count": null,
      "outputs": [
        {
          "output_type": "execute_result",
          "data": {
            "text/html": [
              "<div>\n",
              "<style scoped>\n",
              "    .dataframe tbody tr th:only-of-type {\n",
              "        vertical-align: middle;\n",
              "    }\n",
              "\n",
              "    .dataframe tbody tr th {\n",
              "        vertical-align: top;\n",
              "    }\n",
              "\n",
              "    .dataframe thead th {\n",
              "        text-align: right;\n",
              "    }\n",
              "</style>\n",
              "<table border=\"1\" class=\"dataframe\">\n",
              "  <thead>\n",
              "    <tr style=\"text-align: right;\">\n",
              "      <th></th>\n",
              "      <th>topic_id</th>\n",
              "      <th>title</th>\n",
              "      <th>content</th>\n",
              "      <th>tags</th>\n",
              "      <th>idx_tags</th>\n",
              "    </tr>\n",
              "  </thead>\n",
              "  <tbody>\n",
              "    <tr>\n",
              "      <th>0</th>\n",
              "      <td>40643404</td>\n",
              "      <td>ทริปเกาะเสม็ด 3 วัน 2 คืน วันที่สองที่ทรายแก้ว...</td>\n",
              "      <td>\\r\\n\\t\\t\\t\\t\\t\\t\\t\\t\\t\\t\\t\\t\\t\\t\\t\\tคืนแรกที่เ...</td>\n",
              "      <td>[เกาะเสม็ด, เที่ยวทะเล, จังหวัดระยอง, เที่ยวไท...</td>\n",
              "      <td>[8, 1, 16]</td>\n",
              "    </tr>\n",
              "    <tr>\n",
              "      <th>1</th>\n",
              "      <td>40643393</td>\n",
              "      <td>…  ธูษิฏา เวลเนส รีสอร์ต ชุมพร  Tusita Wellnes...</td>\n",
              "      <td>\\r\\n\\t\\t\\t\\t\\t\\t\\t\\t\\t\\t\\t\\t\\t\\t\\t\\t.     ธูษิ...</td>\n",
              "      <td>[บันทึกนักเดินทาง, โรงแรมรีสอร์ท, จังหวัดชุมพร...</td>\n",
              "      <td>[0, 6, 8, 16]</td>\n",
              "    </tr>\n",
              "    <tr>\n",
              "      <th>2</th>\n",
              "      <td>40643087</td>\n",
              "      <td>พาชม สนามกอล์ฟ ศูนย์สร้างทางลำปาง กรมทางหลวง (...</td>\n",
              "      <td>\\n\\nใบสนร่วงให้ฟีลแผ่นดินสีทอง สวยไปอีกแบบครับ...</td>\n",
              "      <td>[กอล์ฟ, กีฬาผู้สูงอายุ, เที่ยวไทย, จังหวัดลำปา...</td>\n",
              "      <td>[1]</td>\n",
              "    </tr>\n",
              "    <tr>\n",
              "      <th>3</th>\n",
              "      <td>40642333</td>\n",
              "      <td>Copenhagen : Summer days - ฤดูร้อนในโคเปนเฮเกน...</td>\n",
              "      <td>\\r\\n\\t\\t\\t\\t\\t\\t\\t\\t\\t\\t\\t\\t\\t\\t\\t\\tทริปนี้เป็...</td>\n",
              "      <td>[โคเปนเฮเกน, เที่ยวยุโรป, บันทึกนักเดินทาง, ปร...</td>\n",
              "      <td>[25, 0, 3]</td>\n",
              "    </tr>\n",
              "    <tr>\n",
              "      <th>4</th>\n",
              "      <td>40642260</td>\n",
              "      <td>📌 แจกพิกัด 6 ทุ่งดอกไม้หลากสีทั่วญี่ปุ่น ที่ไม...</td>\n",
              "      <td>\\nถ้าพูดถึงดอกไม้ของญี่ปุ่นหลายๆคนคงจะนึกถึงดอ...</td>\n",
              "      <td>[เที่ยวญี่ปุ่น, ฮอกไกโด, โตเกียว, โอซาก้า, สถา...</td>\n",
              "      <td>[9, 61, 32, 46, 3]</td>\n",
              "    </tr>\n",
              "  </tbody>\n",
              "</table>\n",
              "</div>"
            ],
            "text/plain": [
              "   topic_id  ...            idx_tags\n",
              "0  40643404  ...          [8, 1, 16]\n",
              "1  40643393  ...       [0, 6, 8, 16]\n",
              "2  40643087  ...                 [1]\n",
              "3  40642333  ...          [25, 0, 3]\n",
              "4  40642260  ...  [9, 61, 32, 46, 3]\n",
              "\n",
              "[5 rows x 5 columns]"
            ]
          },
          "metadata": {
            "tags": []
          },
          "execution_count": 17
        }
      ]
    },
    {
      "cell_type": "code",
      "metadata": {
        "id": "hdREsgQvuhM6"
      },
      "source": [
        "from sklearn.preprocessing import MultiLabelBinarizer\n",
        "\n",
        "multilabel_binarizer = MultiLabelBinarizer()\n",
        "multilabel_binarizer.fit(df_content['idx_tags'])\n",
        "\n",
        "y = multilabel_binarizer.transform(df_content['idx_tags'])"
      ],
      "execution_count": null,
      "outputs": []
    },
    {
      "cell_type": "code",
      "metadata": {
        "id": "IB86fB7HDj8P"
      },
      "source": [
        "# # Exclude topic without Top tags.\n",
        "# df_content = df_content[df_content['idx_tags'].apply(lambda x: len(x)) > 0]"
      ],
      "execution_count": null,
      "outputs": []
    },
    {
      "cell_type": "code",
      "metadata": {
        "id": "XTW4n-IXeVKO"
      },
      "source": [
        "# tags_temp = []\n",
        "# zero_list = [0] * n_tags\n",
        "# for index, row in df_content.iterrows():\n",
        "\n",
        "#   if row['idx_tags'] != []:\n",
        "#     temps = to_categorical(row['idx_tags'], num_classes=n_tags)\n",
        "#     max_temps = np.maximum(temps[0], zero_list)\n",
        "\n",
        "#     for temp in temps:\n",
        "#       max_temps = np.maximum(temp, max_temps)\n",
        "#   else:\n",
        "#     max_temps = zero_list\n",
        "\n",
        "#   tags_temp.append(max_temps)\n",
        "\n",
        "\n",
        "# df_content['Y_tags'] = tags_temp"
      ],
      "execution_count": null,
      "outputs": []
    },
    {
      "cell_type": "code",
      "metadata": {
        "colab": {
          "base_uri": "https://localhost:8080/",
          "height": 120
        },
        "id": "tHr9VOyuoXPi",
        "outputId": "99d55382-77b4-4d93-edc2-5b5b6259f99c"
      },
      "source": [
        "cut_string = r\"[\\xa0\\|\\(\\)\\[\\]\\{\\}\\n\\t\\r-]*\"\n",
        "\n",
        "test = df_content['content'].iloc[-2]\n",
        "test = \"[test] {test} \" + test\n",
        "test"
      ],
      "execution_count": null,
      "outputs": [
        {
          "output_type": "execute_result",
          "data": {
            "application/vnd.google.colaboratory.intrinsic+json": {
              "type": "string"
            },
            "text/plain": [
              "'[test] {test} \\r\\n\\t\\t\\t\\t\\t\\t\\t\\t\\t\\t\\t\\t\\t\\t\\t\\t😀เริ่มจากเดือนกันยายนปีที่แล้ว เริ่มวางแผน trip ตะลุย hong kong โดยกำหนดเดินทางเดือน มีนาคม 62 จากนั้นก็ตั้งตารอคอยโปรโมชั่นตั๋วถูก ในที่สุดส้มหล่นค่ะ ได้ตั๋วไป-กลับ ภูเก็ต - ฮองกง จาก www.hxexpress.com ในราคา 3400 รวมค่าธรรมเนียมบัตรเครดิต = 3846 บาท โอแม่จ้าว ถูกมวากก จากราคาปกติประมาณ 6000 บาท (ราคานี้คือลากกระเป๋าขึ้นเครื่องนะค่ะ ถ้าจะ load กระเป๋าจ่ายเพิ่มเที่ยวล่ะ 990 บาทจ้า)\\n\\n😀เมื่อได้ตั๋วแล้ว step ต่อไปคือการหาที่พัก เราทำการบ้านอย่างหนัก ในการเลือกโรงแรม โดยมี เงื่อนไขการจองโรงแรม 1.งบไม่เกิน 2,500 บาทต่อคืน 2.ขอเป็นโรงแรมไม่เอา guest house เพราะ guest house ห้องเล็กมากกก ไม่มีทางเดินในห้อง เปิดประตูปุ๊บจะเจอปลายเตียงทันที ห้องแบบโรงแรมยังพอมีทางเดินในห้องบ้างพอให้หายใจโล่งๆ 3. ขอโรงแรมใกล้สถานีรถไฟฟ้า เดินไม่เกิน 300 เมตร เพราะขี้เกียจเดินค่ะ 4.ขอโรงแรมที่เป็นจุดจอดของรถรับส่งสนามบิน เพราะขี้เกียจลากกระเป๋าไปขึ้นรถ หุหุ เงื่อนไขเจ้เยอะไปป่าว สุดท้ายมาลงตัวที่ NOBEL PARK HOTEL ย่าน Jodan จองผ่าน www.booking.com ในราคา 2800 บาท/คืน เกิน budget ไปนิดหน่อย ไม่เป็นไร แลกกับเงื่อนไขไม่เดินไกลของเจ้ เรียบร้อยทั้งตั๋วและที่พัก ข้อดีของโรงแรมนี้คือบริการตู้กดน้ำดื่มหน้าลิฟท์ทุกชั้น ผ้าขนหนูฟรี รับฝากกระเป๋าฟรี อุปกรณ์อาบน้ำฟรี\\n\\n😀มาวางแผนการท่องเที่ยวในแต่ละวันกันค่ะ โอ้วพอศึกษาเข้าจริงๆ ฮองกงมีที่เที่ยวเยอะมากก จนทริป 3วัน2คืน\\xa0 เวลาไม่พอ อยากเปลี่ยนเป็น 4วัน3คืน จุงเบย แต่ไม่ทันล่ะ เลือกไฮไลท์ที่อยากไปล่ะกัน สถานที่เที่ยวทั้งหมดใช้แผนที่ MTR ฮ่องกง เป็นหลักเลยค่ะ\\n\\nสำหรับการเดินทางจากสนามบินไปโรงแรม เราเลือกใช้ บริการ bus สาย A21 เป็นสายที่เข้าเมืองและจุดจอดหน้าทางเข้าโรงแรมพอดีแป๊ะตามคอนเซปไม่ลากกระเป๋าไกลของเจ้ 555 \\n\\n_____\\n\\nDay 1\\n\\n8.30 พร้อมกันสนามบินภูเก็ต (มีไฟล์แรกของวันคือ 04.00 น. นะค่ะ แต่ไม่ได้เลือก เนื่องจากบ้านไกลจากสนามบิน ต้องออกจากบ้านตั้งแต่ห้าทุ่ม เท่ากับคืนนั้นไม่ได้นอนเลย เจ้ไม่ไหวค่ะ วัยรุ่นอาจจะเหมาะกว่า ได้เที่ยวมากขึ้นด้วยนะค่ะ)\\n\\n11.50 ออกเดินทาง\\n\\n16.10 ถึงสนามบินฮองกง แวะซื้อบัตร octoous (เป็นบัตรใช้จ่ายค่ารถไฟฟ้า ค่ารถบัส ซื้อของร้านสะดวกซื้อ) เดินออกมาตามป้าย Bus Terminal\\xa0 ไปที่จุดจอด bus A21ขึ้น Bus A21 ลงป้าย10จุดจอด nathan hotel รร.ที่เราพักอยู่ซอยข้างๆ nathan holtel จ้า\\n\\n17.30 เดินเข้าซอย 50 เมตร เชคอิน รร.โนเบลพาร์ค (มีค่ามัดจำ 500 hk$ รับคืนวันกลับ)\\n\\n18.00 ขึ้นรถไฟฟ้า mtr ลงสถานีจิมซาจุ่ยออก exit J: avenue of start, \\n\\n18.45 อาหารเย็น deli wine อยู่ใต้อาคารศูนย์วัฒนธรรม ที่เราจะไปดูไฟ\\n\\n20.00 รอที่ clock tower จุดดู symphony of light \\n\\n20.30 นั่ง mtr ไปลงสถานีมงก๊ก ออก exit D ช๊อปปิ้งตลาด lady market ประกอบ 3 เส้นหลัก lady st. เสื้อผ้ากระเป๋าเหมือนสำเพ็ง Fayern st. Shopรองเท้า tung choi st. ขายเสื้อผ้าสินค้ากลุ่มวัยรุ่น\\n\\n22.30 แวะชิมก๋วยเตี๋ยวลูกชิ้นปลาก่อนกลับโรงแรม นั่ง mtr ไปลงสถานีจอร์แดน ออก exit B1 เดิน 300 เมตรถึงโรงแรม\\n\\n_____\\n\\nDay 2\\n\\n8.00 พร้อมกันที่ lobby โรงแรม กินโจ๊กร้านดังข้างโรงแรม\\n\\n9.00 ขึ้น mtr ลงสถานีเซนทรัล exit A เดินไปต่อ Bus Terminal สาย 15 ไป the peak ชมวิว360 ของฮองกง (ซื้อบัตร sky pass 52dhk ) ขาลงซื้อบัตรรถราง single tram ลงมาถึงข้างล่าง จะเดินเข้า mtr ได้เลย\\n\\n12.00แวะกินข้างเที่ยงที่ mtr ก่อนไปตะลุยดีสนีย์ทั้งวัน \\n\\n20.00 อาหารเย็น ก่อนปิดท้ายด้วยไฮไลท์ขบวนพาเหรด\\n\\n21.00 กลับโรงแรม\\n\\n_____\\n\\nDay 3\\n\\n8.00 พร้อมกันที่ lobby check out เสร็จแล้วเดินไปโรงแรม eaton ซอยถัดไปจากโรงแรมที่เราพัก เพื่อรอรถที่ป้ายจอด shutter bus สาย K1 เพื่อไปสถานีรถไฟเกาลูน (ขึ้นได้เลยไม่มีค่าใช้จ่าย) เมื่อลงจาก bus ก้อเข้าในอาคาร แวะซื้อตั๋ว AE (62 dhk)ไปสนามบิน แล้วก้อ เข้าไป check in town in town กับสายการ hx express เราก้อจะได้ load กระเป๋า และรับตั๋วไฟล์กลับภูเก็ตเลย จากนั้นเราก้อเดินตัวปลิวไปเที่ยวต่อโดยใช้ บัตร AE แตะเข้าไป เพื่อขึ้นรถไฟฟ้าไปสนามบินเลยจ้า\\n\\n9.00 ถึงสนามบิน ลงจากรถไฟ AE เดินออกนอกอาคาร ไปตามป้าย bus terminal ไปที่ จุดจอด bus S1 ไป สถานี (Tung Chung) เพื่อไปวัดนองปิง ไหว้พระใหญ่ ลงที่สถานี Tung Chung เดินไปทางกระเช้า 360 องศา เพื่อซื้อตั๋วกระเช้าข้ามทะเลไปบนเขานองปิง ลงจากกระเช้าก้อเที่ยวตามอัธยาศัยเลยจ้า \\n\\n12.00 กลับมากินข้าวเที่ยงและshopping ที่ Citygate Outlet ต้องหิ้วขึ้นเครื่องนะจ๊ะ เพราะกระเป๋าโหลดไปแล้ว\\n\\n16.30 นั่ง bus S1 กลับสนามบิน\\n\\n17.00 ถึงสนามบิน เข้าตม.ได้เลย อาหารเย็นก้อร้านอาหารใน gate \\n\\n20.05 เดินทางกลับ \\n\\n22.50 ถึงสนามบินภูเก็ต\\n\\n------\\n\\nได้แผนการเดินทางแล้ว Step ต่อไปก้อคำนวณค่าใช้จ่ายเพื่อเตรียมแลกเงินไปใช้ที่ฮองกง \\n\\nอัตราแลกเปลี่ยน 1 dhk = 4.15 บาท(มีนา62)\\n\\nค่าอาหารที่ฮองกงจานล่ะ 50-70\\n\\nค่าอาหาร 70 x3มื้อ x3วัน =630 dhk\\n\\nค่าบัตร octopus150 เติมเงินเพิ่ม 50 =200dhk\\n\\nค่าตั๋วเข้า sky pass ที่ the peak\\xa0\\xa0 52 dhk\\n\\nค่าช๊อปปิ้ง/ของฝาก 418 dhk\\n\\n😀สรุปแลกเงิน 1300 dhk = 5400\\n\\nบัตรเข้าดิสนีย์แลนด์ 2285 บาท และบัตรกระเช้าคริสตัลพื้นใส 937 บาทแนะนำให้ซื้อผ่าน App klook จะได้ไม่เสียเวลาไปต่อคิวซื้อตั๋ว จ่ายผ่านบัตรเครดิตไปเลยจ้า\\n\\n😆สรุปค่าใช้จ่ายทั้งหมด😆\\n\\n😀แลกเงิน1300 dhk (5400บาท)\\n\\n😀ค่าตั๋วเครื่องบิน 3846 บาท\\n\\n😀ค่าที่พัก 2800×2คืน=5600÷2คน=2800\\n\\n😀ค่าบัตรดิสนีย์แลนด์ 2285\\n\\n😀ค่าบัตรกระเช้าคริสตัล 937\\n\\nรวม 15268/คน\\xa0 \\n\\nแต่ถ้าใครตั้งใจมาไหว้พระขอพร ไม่เข้าดิสนีย์แลนด์ ก็ประหยัดงบไปอีก 2285 บาท นะจ๊ะ เพราะทุกวัดไม่ต้องจ่ายค่าเข้าชมจ้าปรับแผนโปรแกรมเที่ยววัดตามใจชอบเลยจ้า\\n\\nเอาล่ะทุกอย่างพร้อม\\n\\nเราออกเดินทางกันเลยจ้า\\t\\t\\t\\t\\t\\t\\t\\t\\t\\n\\n'"
            ]
          },
          "metadata": {
            "tags": []
          },
          "execution_count": 21
        }
      ]
    },
    {
      "cell_type": "code",
      "metadata": {
        "colab": {
          "base_uri": "https://localhost:8080/",
          "height": 120
        },
        "id": "1eIDIlmX4onG",
        "outputId": "8f1146b3-0724-4c53-f3ec-358f54730236"
      },
      "source": [
        "import re\n",
        "re.sub(cut_string, \"\", test)"
      ],
      "execution_count": null,
      "outputs": [
        {
          "output_type": "execute_result",
          "data": {
            "application/vnd.google.colaboratory.intrinsic+json": {
              "type": "string"
            },
            "text/plain": [
              "'test test 😀เริ่มจากเดือนกันยายนปีที่แล้ว เริ่มวางแผน trip ตะลุย hong kong โดยกำหนดเดินทางเดือน มีนาคม 62 จากนั้นก็ตั้งตารอคอยโปรโมชั่นตั๋วถูก ในที่สุดส้มหล่นค่ะ ได้ตั๋วไปกลับ ภูเก็ต  ฮองกง จาก www.hxexpress.com ในราคา 3400 รวมค่าธรรมเนียมบัตรเครดิต = 3846 บาท โอแม่จ้าว ถูกมวากก จากราคาปกติประมาณ 6000 บาท ราคานี้คือลากกระเป๋าขึ้นเครื่องนะค่ะ ถ้าจะ load กระเป๋าจ่ายเพิ่มเที่ยวล่ะ 990 บาทจ้า😀เมื่อได้ตั๋วแล้ว step ต่อไปคือการหาที่พัก เราทำการบ้านอย่างหนัก ในการเลือกโรงแรม โดยมี เงื่อนไขการจองโรงแรม 1.งบไม่เกิน 2,500 บาทต่อคืน 2.ขอเป็นโรงแรมไม่เอา guest house เพราะ guest house ห้องเล็กมากกก ไม่มีทางเดินในห้อง เปิดประตูปุ๊บจะเจอปลายเตียงทันที ห้องแบบโรงแรมยังพอมีทางเดินในห้องบ้างพอให้หายใจโล่งๆ 3. ขอโรงแรมใกล้สถานีรถไฟฟ้า เดินไม่เกิน 300 เมตร เพราะขี้เกียจเดินค่ะ 4.ขอโรงแรมที่เป็นจุดจอดของรถรับส่งสนามบิน เพราะขี้เกียจลากกระเป๋าไปขึ้นรถ หุหุ เงื่อนไขเจ้เยอะไปป่าว สุดท้ายมาลงตัวที่ NOBEL PARK HOTEL ย่าน Jodan จองผ่าน www.booking.com ในราคา 2800 บาท/คืน เกิน budget ไปนิดหน่อย ไม่เป็นไร แลกกับเงื่อนไขไม่เดินไกลของเจ้ เรียบร้อยทั้งตั๋วและที่พัก ข้อดีของโรงแรมนี้คือบริการตู้กดน้ำดื่มหน้าลิฟท์ทุกชั้น ผ้าขนหนูฟรี รับฝากกระเป๋าฟรี อุปกรณ์อาบน้ำฟรี😀มาวางแผนการท่องเที่ยวในแต่ละวันกันค่ะ โอ้วพอศึกษาเข้าจริงๆ ฮองกงมีที่เที่ยวเยอะมากก จนทริป 3วัน2คืน เวลาไม่พอ อยากเปลี่ยนเป็น 4วัน3คืน จุงเบย แต่ไม่ทันล่ะ เลือกไฮไลท์ที่อยากไปล่ะกัน สถานที่เที่ยวทั้งหมดใช้แผนที่ MTR ฮ่องกง เป็นหลักเลยค่ะสำหรับการเดินทางจากสนามบินไปโรงแรม เราเลือกใช้ บริการ bus สาย A21 เป็นสายที่เข้าเมืองและจุดจอดหน้าทางเข้าโรงแรมพอดีแป๊ะตามคอนเซปไม่ลากกระเป๋าไกลของเจ้ 555 _____Day 18.30 พร้อมกันสนามบินภูเก็ต มีไฟล์แรกของวันคือ 04.00 น. นะค่ะ แต่ไม่ได้เลือก เนื่องจากบ้านไกลจากสนามบิน ต้องออกจากบ้านตั้งแต่ห้าทุ่ม เท่ากับคืนนั้นไม่ได้นอนเลย เจ้ไม่ไหวค่ะ วัยรุ่นอาจจะเหมาะกว่า ได้เที่ยวมากขึ้นด้วยนะค่ะ11.50 ออกเดินทาง16.10 ถึงสนามบินฮองกง แวะซื้อบัตร octoous เป็นบัตรใช้จ่ายค่ารถไฟฟ้า ค่ารถบัส ซื้อของร้านสะดวกซื้อ เดินออกมาตามป้าย Bus Terminal ไปที่จุดจอด bus A21ขึ้น Bus A21 ลงป้าย10จุดจอด nathan hotel รร.ที่เราพักอยู่ซอยข้างๆ nathan holtel จ้า17.30 เดินเข้าซอย 50 เมตร เชคอิน รร.โนเบลพาร์ค มีค่ามัดจำ 500 hk$ รับคืนวันกลับ18.00 ขึ้นรถไฟฟ้า mtr ลงสถานีจิมซาจุ่ยออก exit J: avenue of start, 18.45 อาหารเย็น deli wine อยู่ใต้อาคารศูนย์วัฒนธรรม ที่เราจะไปดูไฟ20.00 รอที่ clock tower จุดดู symphony of light 20.30 นั่ง mtr ไปลงสถานีมงก๊ก ออก exit D ช๊อปปิ้งตลาด lady market ประกอบ 3 เส้นหลัก lady st. เสื้อผ้ากระเป๋าเหมือนสำเพ็ง Fayern st. Shopรองเท้า tung choi st. ขายเสื้อผ้าสินค้ากลุ่มวัยรุ่น22.30 แวะชิมก๋วยเตี๋ยวลูกชิ้นปลาก่อนกลับโรงแรม นั่ง mtr ไปลงสถานีจอร์แดน ออก exit B1 เดิน 300 เมตรถึงโรงแรม_____Day 28.00 พร้อมกันที่ lobby โรงแรม กินโจ๊กร้านดังข้างโรงแรม9.00 ขึ้น mtr ลงสถานีเซนทรัล exit A เดินไปต่อ Bus Terminal สาย 15 ไป the peak ชมวิว360 ของฮองกง ซื้อบัตร sky pass 52dhk  ขาลงซื้อบัตรรถราง single tram ลงมาถึงข้างล่าง จะเดินเข้า mtr ได้เลย12.00แวะกินข้างเที่ยงที่ mtr ก่อนไปตะลุยดีสนีย์ทั้งวัน 20.00 อาหารเย็น ก่อนปิดท้ายด้วยไฮไลท์ขบวนพาเหรด21.00 กลับโรงแรม_____Day 38.00 พร้อมกันที่ lobby check out เสร็จแล้วเดินไปโรงแรม eaton ซอยถัดไปจากโรงแรมที่เราพัก เพื่อรอรถที่ป้ายจอด shutter bus สาย K1 เพื่อไปสถานีรถไฟเกาลูน ขึ้นได้เลยไม่มีค่าใช้จ่าย เมื่อลงจาก bus ก้อเข้าในอาคาร แวะซื้อตั๋ว AE 62 dhkไปสนามบิน แล้วก้อ เข้าไป check in town in town กับสายการ hx express เราก้อจะได้ load กระเป๋า และรับตั๋วไฟล์กลับภูเก็ตเลย จากนั้นเราก้อเดินตัวปลิวไปเที่ยวต่อโดยใช้ บัตร AE แตะเข้าไป เพื่อขึ้นรถไฟฟ้าไปสนามบินเลยจ้า9.00 ถึงสนามบิน ลงจากรถไฟ AE เดินออกนอกอาคาร ไปตามป้าย bus terminal ไปที่ จุดจอด bus S1 ไป สถานี Tung Chung เพื่อไปวัดนองปิง ไหว้พระใหญ่ ลงที่สถานี Tung Chung เดินไปทางกระเช้า 360 องศา เพื่อซื้อตั๋วกระเช้าข้ามทะเลไปบนเขานองปิง ลงจากกระเช้าก้อเที่ยวตามอัธยาศัยเลยจ้า 12.00 กลับมากินข้าวเที่ยงและshopping ที่ Citygate Outlet ต้องหิ้วขึ้นเครื่องนะจ๊ะ เพราะกระเป๋าโหลดไปแล้ว16.30 นั่ง bus S1 กลับสนามบิน17.00 ถึงสนามบิน เข้าตม.ได้เลย อาหารเย็นก้อร้านอาหารใน gate 20.05 เดินทางกลับ 22.50 ถึงสนามบินภูเก็ตได้แผนการเดินทางแล้ว Step ต่อไปก้อคำนวณค่าใช้จ่ายเพื่อเตรียมแลกเงินไปใช้ที่ฮองกง อัตราแลกเปลี่ยน 1 dhk = 4.15 บาทมีนา62ค่าอาหารที่ฮองกงจานล่ะ 5070ค่าอาหาร 70 x3มื้อ x3วัน =630 dhkค่าบัตร octopus150 เติมเงินเพิ่ม 50 =200dhkค่าตั๋วเข้า sky pass ที่ the peak 52 dhkค่าช๊อปปิ้ง/ของฝาก 418 dhk😀สรุปแลกเงิน 1300 dhk = 5400บัตรเข้าดิสนีย์แลนด์ 2285 บาท และบัตรกระเช้าคริสตัลพื้นใส 937 บาทแนะนำให้ซื้อผ่าน App klook จะได้ไม่เสียเวลาไปต่อคิวซื้อตั๋ว จ่ายผ่านบัตรเครดิตไปเลยจ้า😆สรุปค่าใช้จ่ายทั้งหมด😆😀แลกเงิน1300 dhk 5400บาท😀ค่าตั๋วเครื่องบิน 3846 บาท😀ค่าที่พัก 2800×2คืน=5600÷2คน=2800😀ค่าบัตรดิสนีย์แลนด์ 2285😀ค่าบัตรกระเช้าคริสตัล 937รวม 15268/คน แต่ถ้าใครตั้งใจมาไหว้พระขอพร ไม่เข้าดิสนีย์แลนด์ ก็ประหยัดงบไปอีก 2285 บาท นะจ๊ะ เพราะทุกวัดไม่ต้องจ่ายค่าเข้าชมจ้าปรับแผนโปรแกรมเที่ยววัดตามใจชอบเลยจ้าเอาล่ะทุกอย่างพร้อมเราออกเดินทางกันเลยจ้า'"
            ]
          },
          "metadata": {
            "tags": []
          },
          "execution_count": 22
        }
      ]
    },
    {
      "cell_type": "code",
      "metadata": {
        "colab": {
          "base_uri": "https://localhost:8080/"
        },
        "id": "77MAdd2E7lHG",
        "outputId": "65b535c6-dd8b-43d1-e7a1-9eb76dd445ce"
      },
      "source": [
        "print(\"Before\")\n",
        "print(df_content['title'].iloc[4])\n",
        "print(\"After\")\n",
        "print(re.sub(cut_string, \"\", df_content['title'].iloc[4]))"
      ],
      "execution_count": null,
      "outputs": [
        {
          "output_type": "stream",
          "text": [
            "Before\n",
            "📌 แจกพิกัด 6 ทุ่งดอกไม้หลากสีทั่วญี่ปุ่น ที่ไม่ควรพลาด | MeTrip\n",
            "After\n",
            "📌 แจกพิกัด 6 ทุ่งดอกไม้หลากสีทั่วญี่ปุ่น ที่ไม่ควรพลาด  MeTrip\n"
          ],
          "name": "stdout"
        }
      ]
    },
    {
      "cell_type": "code",
      "metadata": {
        "id": "07tqS6FE01PK"
      },
      "source": [
        "df_content['clean_content'] = df_content['title'] + df_content['content']"
      ],
      "execution_count": null,
      "outputs": []
    },
    {
      "cell_type": "code",
      "metadata": {
        "id": "k0d3WaaQ5KfO"
      },
      "source": [
        "df_content['clean_content'] = df_content['clean_content'].apply(lambda x: re.sub(cut_string, \"\", x))"
      ],
      "execution_count": null,
      "outputs": []
    },
    {
      "cell_type": "code",
      "metadata": {
        "colab": {
          "base_uri": "https://localhost:8080/"
        },
        "id": "RERJFJpGwHL4",
        "outputId": "63e05206-b7fb-436d-a34a-d0e86ad2ed58"
      },
      "source": [
        "Top_tags[0][1]"
      ],
      "execution_count": null,
      "outputs": [
        {
          "output_type": "execute_result",
          "data": {
            "text/plain": [
              "5099"
            ]
          },
          "metadata": {
            "tags": []
          },
          "execution_count": 26
        }
      ]
    },
    {
      "cell_type": "code",
      "metadata": {
        "colab": {
          "base_uri": "https://localhost:8080/",
          "height": 345
        },
        "id": "YZ98gBDbv_Iq",
        "outputId": "ce15e384-dbbf-4b34-855b-be08a603ce8c"
      },
      "source": [
        "import matplotlib.pyplot as plt\n",
        "\n",
        "Tags_ = [i[0] for i in Top_tags]\n",
        "Count_ = [i[1] for i in Top_tags]\n",
        "\n",
        "\n",
        "plt.bar(Tags_, Count_)\n",
        "plt.xticks(rotation=90)\n",
        "plt.show()"
      ],
      "execution_count": null,
      "outputs": [
        {
          "output_type": "display_data",
          "data": {
            "image/png": "[encoded data removed]",
            "text/plain": [
              "<Figure size 432x288 with 1 Axes>"
            ]
          },
          "metadata": {
            "tags": [],
            "needs_background": "light"
          }
        }
      ]
    },
    {
      "cell_type": "code",
      "metadata": {
        "id": "-0uDW1qjH-TQ"
      },
      "source": [
        "# import matplotlib.pyplot as plt\n",
        "# import seaborn as sns\n",
        "\n",
        "# plt.figure(figsize=(15,8))\n",
        "# sns.histplot(texts_train_tokenized_length, stat='density',\n",
        "#              binwidth=5)"
      ],
      "execution_count": null,
      "outputs": []
    },
    {
      "cell_type": "code",
      "metadata": {
        "id": "Y62VFKQsLbKf"
      },
      "source": [
        "# import matplotlib.pyplot as plt\n",
        "# def plot(label, count):\n",
        "#     fig, ax = plt.subplots()\n",
        "#     ind = np.arange(len(count))\n",
        "#     rects1 = ax.bar(ind, count, 0.5)\n",
        "\n",
        "#     ax.set_ylabel('Count')\n",
        "#     ax.set_title('Count for each class')\n",
        "#     ax.set_xticks(ind)\n",
        "#     ax.set_xticklabels(label)\n",
        "\n",
        "#     plt.show()\n",
        "    \n",
        "# # class_, count = np.unique([data[1] for data in train_data], return_counts=True)\n",
        "# plot(class_, count_)"
      ],
      "execution_count": null,
      "outputs": []
    },
    {
      "cell_type": "markdown",
      "metadata": {
        "id": "5clOStUyDYxC"
      },
      "source": [
        "## Tokenize"
      ]
    },
    {
      "cell_type": "code",
      "metadata": {
        "id": "w5kEOhleDfKP"
      },
      "source": [
        "_ = !pip install pythainlp\n",
        "from pythainlp.tokenize import word_tokenize\n",
        "from pythainlp.tokenize import syllable_tokenize"
      ],
      "execution_count": null,
      "outputs": []
    },
    {
      "cell_type": "code",
      "metadata": {
        "id": "Gnr7a9d4FDvR"
      },
      "source": [
        "X = df_content['clean_content'].tolist()"
      ],
      "execution_count": null,
      "outputs": []
    },
    {
      "cell_type": "code",
      "metadata": {
        "colab": {
          "base_uri": "https://localhost:8080/",
          "height": 86
        },
        "id": "hIHa1-uqyiqJ",
        "outputId": "50a18833-d057-4b95-c258-ecaa67df239c"
      },
      "source": [
        "df_content['clean_content'].tolist()[0]"
      ],
      "execution_count": null,
      "outputs": [
        {
          "output_type": "execute_result",
          "data": {
            "application/vnd.google.colaboratory.intrinsic+json": {
              "type": "string"
            },
            "text/plain": [
              "'ทริปเกาะเสม็ด 3 วัน 2 คืน วันที่สองที่ทรายแก้วบีช หาดทรายแก้ว ต่อจากคืนแรกที่ เลอวิมานคืนแรกที่เลอวิมาน อ่าวพร้าว เสม็ดhttps://pantip.com/topic/4063985325 มีค 2021มาต่อกันที่หาดทรายแก้ว ที่นี่มีร้านค้า ร้านอาหารให้บริการพลุกพล่านกว่าที่อ่าวพร้าวมาก รถสองแถวจากเลอวิมาน อ่าวพร้าวพาเราถึงที่พัก หาดทรายแก้วบีชใช้เวลาไม่นานประมาณ 1015 นาทีทรายแก้วบีชเป็นโรงแรมในเครือเดียวกับเลอวิมาน อ่าวพร้าวรีสอร์ทและปารดี ห้องพักที่นี่ใหม่สะดวกสบาย ติดทะเลมีหลายโซนให้เลือกพัก ไลน์อาหารเช้าเยอะและมีบริการรับส่งฟรีไปกลับจากท่าเรืออ่าวพร้าวเช่นกัน ที่ตั้งของรีสอร์ทจะอยู่ท้ายหาดจึงมีความเป็นส่วนตัว เงียบกว่าโซนอื่น จากที่เดินสำรวจที่นี่เป็นรีสอร์ทที่ดีที่สุดในหาดทรายแก้วค่ะ '"
            ]
          },
          "metadata": {
            "tags": []
          },
          "execution_count": 32
        }
      ]
    },
    {
      "cell_type": "code",
      "metadata": {
        "id": "vkGnE85OyS1c"
      },
      "source": [
        "# X[0]"
      ],
      "execution_count": null,
      "outputs": []
    },
    {
      "cell_type": "code",
      "metadata": {
        "id": "DRq9idlxEb-a"
      },
      "source": [
        "# from sklearn.model_selection import train_test_split\n",
        "\n",
        "# #Split train-test\n",
        "# X_train, X_test, y_train, y_test = train_test_split(X, y, test_size=0.3, random_state=42)"
      ],
      "execution_count": null,
      "outputs": []
    },
    {
      "cell_type": "code",
      "metadata": {
        "id": "OP_iD4GdDa8y"
      },
      "source": [
        "# Tokenize\n",
        "word_to_idx ={}\n",
        "idx_to_word ={}\n",
        "\n",
        "content = df_content['clean_content'].tolist()\n",
        "\n",
        "new_content = []\n",
        "for sentence in content:\n",
        "  text = word_tokenize(sentence, engine=\"newmm\")\n",
        "  for word in text:\n",
        "    if word not in word_to_idx:\n",
        "      word_to_idx[word] = len(word_to_idx) + 1\n",
        "      idx_to_word[word_to_idx[word]] = word\n",
        "  new_content.append(text)\n",
        "word_to_idx['UNK'] = len(word_to_idx)\n",
        "content_newmm = new_content\n",
        "\n",
        "del new_content"
      ],
      "execution_count": null,
      "outputs": []
    },
    {
      "cell_type": "code",
      "metadata": {
        "id": "ekhe2_rD1ev8"
      },
      "source": [
        "vocab_size = len(word_to_idx)"
      ],
      "execution_count": null,
      "outputs": []
    },
    {
      "cell_type": "code",
      "metadata": {
        "id": "z4aAWvx-6XXo"
      },
      "source": [
        "# content to sequences\n",
        "content_seq = []\n",
        "for c in content_newmm:\n",
        "  temp = []\n",
        "  for word in c:\n",
        "    if word in word_to_idx:\n",
        "      temp.append(word_to_idx[word])\n",
        "    else:\n",
        "      temp.append(word_to_idx['UNK'])\n",
        "  content_seq.append(temp)"
      ],
      "execution_count": null,
      "outputs": []
    },
    {
      "cell_type": "code",
      "metadata": {
        "id": "Fre5Iuke5aA0"
      },
      "source": [
        "content_lengths = []\n",
        "\n",
        "for i in content_newmm:\n",
        "    content_lengths.append(len(i))"
      ],
      "execution_count": null,
      "outputs": []
    },
    {
      "cell_type": "code",
      "metadata": {
        "id": "UdaQkU6d5liO"
      },
      "source": [
        "max_length = int(pd.Series(content_lengths).quantile(0.8))"
      ],
      "execution_count": null,
      "outputs": []
    },
    {
      "cell_type": "code",
      "metadata": {
        "id": "zNmPuW0t53yk"
      },
      "source": [
        "from keras.preprocessing.sequence import pad_sequences\n",
        "padded_content = pad_sequences(content_seq, maxlen=max_length, padding='post', truncating='post')"
      ],
      "execution_count": null,
      "outputs": []
    },
    {
      "cell_type": "code",
      "metadata": {
        "colab": {
          "base_uri": "https://localhost:8080/"
        },
        "id": "NGW3Lwnt9xTZ",
        "outputId": "afffc0a2-7f35-4554-ea09-f1e40c75660b"
      },
      "source": [
        "print(content_newmm[2])\n",
        "print(content_seq[2])\n",
        "print(padded_content[2])"
      ],
      "execution_count": null,
      "outputs": [
        {
          "output_type": "stream",
          "text": [
            "['พา', 'ชม', 'สนามกอล์ฟ', 'ศูนย์', 'สร้าง', 'ทาง', 'ลำปาง', 'กรมทางหลวง', ' ', 'ยุค', 'เริ่ม', 'โควิด', 'ระลอก', '3...', 'สนาม', 'ให้', 'บรรยากาศ', 'ลูกทุ่ง', 'แผ่นดิน', 'ทอง', 'ดี', 'ครับ', 'ใบ', 'สน', 'ร่วง', 'ให้', 'ฟี', 'ล', 'แผ่นดิน', 'สี', 'ทอง', ' ', 'สวย', 'ไป', 'อีก', 'แบบ', 'ครับ', 'ช่วง', 'หน้าร้อน', ' ', 'รักษา', 'กรีน', 'ไป', 'ก่อน', 'นะ', 'ครับ', 'พา', 'ไป', 'ชม', ' ', 'สนาม', 'เข', 'ลาง', 'ค์', 'นคร', ' ', 'ของ', ' ', 'ทหารบก', ' ', 'แล้ว', 'บ่าย', 'วันเดียวกัน', 'นั้น', 'ก็', 'ไป', 'ต่อ', 'ที่', ' ', 'สนาม', 'ศูนย์', 'สร้าง', 'ทาง', 'ลำปาง', ' ', 'ของ', ' ', 'กรมทางหลวง', 'ผม', 'เคย', 'สงสัย', 'ว่า', 'มี', 'สนาม', 'ทหาร', ' ', 'สนาม', 'ตำรวจ', ' ', 'สนาม', 'เขื่อน', 'แล้ว', 'เพิ่ง', 'รู้', 'ว่า', 'มี', ' ', 'สนาม', 'กรมทางหลวง', ' ', 'สังกัด', ' ', 'กระทรวงคมนาคม', ' ', 'ก็', 'ครั้งนี้', 'เคย', 'ดู', 'รีวิว', 'สนาม', 'นี้', 'ของ', 'พี่', ' ', 'GumpzZ', ' ', 'เมื่อ', 'หลาย', 'ปีก่อน', 'สนาม', 'นี้', 'ไป', 'ตี', 'มา', 'เมื่อ', ' ', '5', ' ', 'เม.ย.', ' ', '64', ' ', 'โท', '.', 'ไป', 'ถาม', 'ก่อน', ' ', 'สนาม', 'บอ', 'กว่า', 'ช่วงนี้', 'วัน', 'ธรรมดา', 'จะ', 'เปิด', ' ', '15', ':', '00', ' ', 'น.', 'ทาง', 'สนาม', 'ถาม', 'ว่า', 'จะ', 'มาตี', 'วันที่', ' ', '6', ' ', 'แทน', 'ไหม', 'เพราะ', 'เป็น', 'วันหยุด', ' ', 'ออ', 'กรอบ', 'ได้', 'ตั้ง', 'แต่เช้า', 'แต่', 'ผม', 'กะ', 'จะ', 'ไป', 'ต่อ', 'สนาม', 'แม่', 'เมาะ', ' ', 'เลย', 'ตี', 'บ่าย', 'วันนั้น', 'เลย', 'ครับ', 'ตอนนั้น', 'ยัง', 'ไม่', 'มี', 'ข่าว', 'โควิด', 'ใน', 'ลำปาง', 'ครับ', 'ปล.', 'สนาม', 'นี้', 'ให้', ' ', '3.5', '/', '5', ' ', 'คือ', 'สภาพ', 'สนาม', 'อาจ', 'ไม่', 'ดี', 'นัก', ' ', 'แต่', 'ราคา', 'ถูก', 'มาก', ' ', 'ได้', 'บรรยากาศ', 'ลูกทุ่ง', 'ดี', 'ครับ', 'ทั้ง', 'ยัง', 'ได้', 'เดิน', 'ออกกำลังกาย', 'เพราะ', 'ไม่', 'มี', 'รถ', 'กอล์ฟ', 'ให้', 'ถ้า', 'ไม่', 'โท', '.', 'มา', 'จอง', 'ก่อน', 'อาจ', 'ไม่', 'ได้', 'แค', 'ดดี้', 'ด้วย', 'ต้อง', 'ลาก', 'ถุง', 'เอง', 'เหมือน', 'สนาม', 'อ่าว', 'มะนาว', ' ', 'ประจวบคีรีขันธ์', 'สนาม', 'อ่าว', 'มะนาว', 'อยู่', 'ใน', 'เขต', 'ทหาร', ' ', 'กอง', 'บิน', ' ', '5', ' ', 'ชื่อ', 'เดิม', 'กอง', 'บิน', ' ', '53', ' ', 'กองทัพอากาศ', 'วันนี้', 'ตื่น', 'มา', 'โพสต์', 'เช้า', 'หน่อย', ' ', 'เพราะ', 'ตื่น', 'มา', 'เชียร์', 'ทีม', 'รัก', 'เข้ารอบ', ' ', '4', ' ', 'ทีม', 'ยูฟ่า', 'แชมเปี้ยน', 'ไป', 'แล้ว', 'ครับ', 'สนาม', 'นี้', 'ที่', 'พี่', ' ', 'GumpzZ', ' ', 'เคย', 'โพสต์', 'ไว้', ' ', '>>>', '๐๐๐', ' ', 'สนามกอล์ฟ', 'ศูนย์', 'สร้าง', 'ทาง', 'ลำปาง', ' ', '๐๐๐', ' ', '11', ' ', 'มกราคม', ' ', '2558', ' ', 'https', '://', 'pantip', '.', 'com', '/', 'topic', '/', '33089063', 'สนาม', 'ที่', 'ผม', 'เล่น', 'ตอนเช้า', ' ', '>>>', 'พา', 'ชม', ' ', 'สนามกอล์ฟ', ' ', 'เข', 'ลาง', 'ค์', 'นคร', ' ', 'ค่าย', 'สุรศักดิ์มนตรี', ' ', 'ลำปาง', ' ', 'ยุค', 'เริ่ม', 'โควิด', 'ระลอก', ' ', '3...', 'สนาม', 'ทหาร', 'ราคา', 'สบาย', 'กระเป๋า', ' ', 'ดีกว่า', 'ที่', 'คิด', 'ครับ', ' ', 'https', '://', 'pantip', '.', 'com', '/', 'topic', '/', '40633964', 'สนาม', 'อ่าว', 'มะนาว', ' ', '>>>', ' ', 'ลาก', 'ถุง', 'เอง', 'ครั้ง', 'แร', 'ก.', '..', 'ที่', 'อ่าว', 'มะนาว', 'ครับ', ' ', '1', ' ', 'ธ.ค.', ' ', '54', ' ', 'http', '://', 'topicstock', '.', 'pantip', '.', 'com', '/', 'supachalasai', '/', 'topicstock', '/', '2011', '/', '12', '/', 'S', '11403432', '/', 'S', '11403432.', 'html', 'นำ', 'กระทู้', 'เที่ยว', 'ลำปาง', 'บรรยากาศ', 'เก่าๆ', 'ของ', 'ผม', 'มา', 'แปะ', 'ไว้', 'ถ้า', 'ท่าน', 'ใด', 'สนใจ', 'ที่', 'กิน', 'ที่เที่ยว', 'ใน', 'ลำปาง', 'ครับ', 'ลำปาง', 'ไม่', 'ไป', 'ไม่', 'ได้', 'แล้ว', '...ชม', 'วัด', 'กิน', 'อาหาร', 'เมือง', 'เล่น', 'กอล์ฟ', 'ขี่', 'จักรยาน', 'พัก', 'รีสอร์ต', 'งด', 'งา', 'ม.', '..', 'ตอนที่', '1', 'ครับ', '>>>', 'https', '://', 'pantip', '.', 'com', '/', 'topic', '/', '32403552', 'ลำปาง', 'ไม่', 'ไป', 'ไม่', 'ได้', 'แล้ว', '...ชม', 'วัด', 'กิน', 'อาหาร', 'เมือง', 'เล่น', 'กอล์ฟ', 'ขี่', 'จักรยาน', 'พัก', 'รีสอร์ต', 'งด', 'งา', 'ม.', '..', 'ตอนที่', '2', 'จบ', 'ครับ', '>>>', 'https', '://', 'pantip', '.', 'com', '/', 'topic', '/', '32407208', ' ']\n",
            "[42, 192, 196, 197, 198, 199, 200, 201, 4, 202, 203, 204, 205, 206, 207, 68, 160, 208, 209, 210, 93, 194, 211, 212, 213, 68, 214, 215, 209, 216, 210, 4, 217, 78, 150, 186, 194, 218, 219, 4, 220, 221, 78, 222, 223, 194, 42, 78, 192, 4, 207, 224, 225, 226, 227, 4, 83, 4, 228, 4, 229, 230, 231, 232, 173, 78, 14, 10, 4, 207, 197, 198, 199, 200, 4, 83, 4, 201, 233, 234, 235, 125, 29, 207, 236, 4, 207, 237, 4, 207, 238, 229, 239, 240, 125, 29, 4, 207, 201, 4, 241, 4, 242, 4, 173, 243, 234, 244, 245, 207, 169, 83, 246, 4, 247, 4, 248, 66, 249, 207, 169, 78, 250, 32, 248, 4, 251, 4, 252, 4, 253, 4, 254, 24, 78, 255, 222, 4, 207, 180, 39, 256, 6, 257, 84, 258, 4, 259, 260, 261, 4, 262, 199, 207, 255, 125, 84, 263, 264, 4, 265, 4, 266, 267, 268, 52, 269, 4, 270, 271, 177, 272, 273, 274, 233, 275, 84, 78, 14, 207, 107, 276, 4, 174, 250, 230, 277, 174, 194, 278, 279, 47, 29, 280, 204, 95, 200, 194, 281, 207, 169, 68, 4, 282, 26, 251, 4, 283, 284, 207, 285, 47, 93, 286, 4, 274, 287, 288, 40, 4, 177, 160, 208, 93, 194, 165, 279, 177, 91, 289, 268, 47, 29, 290, 291, 68, 292, 47, 254, 24, 32, 293, 222, 285, 47, 177, 294, 295, 130, 158, 296, 297, 298, 299, 207, 19, 300, 4, 301, 207, 19, 300, 85, 95, 302, 236, 4, 303, 304, 4, 251, 4, 305, 306, 303, 304, 4, 307, 4, 308, 309, 310, 32, 311, 312, 313, 4, 268, 310, 32, 314, 315, 316, 317, 4, 318, 4, 315, 319, 320, 78, 229, 194, 207, 169, 10, 246, 4, 247, 4, 234, 311, 321, 4, 322, 323, 4, 196, 197, 198, 199, 200, 4, 323, 4, 324, 4, 325, 4, 326, 4, 21, 22, 23, 24, 25, 26, 27, 26, 327, 207, 10, 233, 328, 329, 4, 322, 42, 192, 4, 196, 4, 224, 225, 226, 227, 4, 330, 331, 4, 200, 4, 202, 203, 204, 205, 4, 206, 207, 236, 287, 332, 333, 4, 334, 10, 335, 194, 4, 21, 22, 23, 24, 25, 26, 27, 26, 336, 207, 19, 300, 4, 322, 4, 296, 297, 298, 337, 338, 339, 340, 10, 19, 300, 194, 4, 119, 4, 341, 4, 342, 4, 343, 22, 344, 24, 23, 24, 25, 26, 345, 26, 344, 26, 346, 26, 347, 26, 348, 349, 26, 348, 350, 351, 352, 353, 354, 200, 160, 355, 83, 233, 32, 356, 321, 292, 357, 358, 359, 10, 360, 361, 95, 200, 194, 200, 47, 78, 47, 177, 229, 362, 363, 360, 364, 365, 328, 291, 366, 367, 70, 102, 368, 369, 370, 340, 371, 119, 194, 322, 21, 22, 23, 24, 25, 26, 27, 26, 372, 200, 47, 78, 47, 177, 229, 362, 363, 360, 364, 365, 328, 291, 366, 367, 70, 102, 368, 369, 370, 340, 371, 7, 373, 194, 322, 21, 22, 23, 24, 25, 26, 27, 26, 374, 4]\n",
            "[ 42 192 196 ...   0   0   0]\n"
          ],
          "name": "stdout"
        }
      ]
    },
    {
      "cell_type": "code",
      "metadata": {
        "colab": {
          "base_uri": "https://localhost:8080/"
        },
        "id": "AK4RXOwFAd30",
        "outputId": "f919fade-dd6a-44d7-b9b6-5bdd397a9ec9"
      },
      "source": [
        "padded_content.shape, y.shape"
      ],
      "execution_count": null,
      "outputs": [
        {
          "output_type": "execute_result",
          "data": {
            "text/plain": [
              "((10000, 1288), (10000, 70))"
            ]
          },
          "metadata": {
            "tags": []
          },
          "execution_count": 42
        }
      ]
    },
    {
      "cell_type": "markdown",
      "metadata": {
        "id": "QKXVhEQYAu1o"
      },
      "source": [
        "# Model"
      ]
    },
    {
      "cell_type": "code",
      "metadata": {
        "id": "gHh1zxzYAxrl"
      },
      "source": [
        "from sklearn.model_selection import train_test_split\n",
        "\n",
        "x_train, x_val, y_train, y_val = train_test_split(padded_content, y, \n",
        "                                                    test_size=0.4, \n",
        "                                                    random_state=9)\n",
        "x_test, x_val, y_test, y_val = train_test_split(x_val, y_val, \n",
        "                                                    test_size=0.5, \n",
        "                                                    random_state=9)"
      ],
      "execution_count": null,
      "outputs": []
    },
    {
      "cell_type": "code",
      "metadata": {
        "colab": {
          "base_uri": "https://localhost:8080/"
        },
        "id": "aqKsMh1pBD0H",
        "outputId": "be8d050a-0789-4f2a-8508-dda7d29a2f3d"
      },
      "source": [
        "print(x_train.shape)\n",
        "print(y_train.shape)\n",
        "print('')\n",
        "print(x_test.shape)\n",
        "print(y_test.shape)\n",
        "print('')\n",
        "print(x_val.shape)\n",
        "print(y_val.shape)"
      ],
      "execution_count": null,
      "outputs": [
        {
          "output_type": "stream",
          "text": [
            "(6000, 1288)\n",
            "(6000, 70)\n",
            "\n",
            "(2000, 1288)\n",
            "(2000, 70)\n",
            "\n",
            "(2000, 1288)\n",
            "(2000, 70)\n"
          ],
          "name": "stdout"
        }
      ]
    },
    {
      "cell_type": "code",
      "metadata": {
        "id": "U_jlu1WgBX-7"
      },
      "source": [
        "from keras.models import Sequential, load_model\n",
        "from keras.layers import Dense, Embedding, GlobalMaxPool1D, Dropout, Conv1D, LSTM, MaxPooling1D, Bidirectional\n",
        "from keras.callbacks import EarlyStopping, ModelCheckpoint\n",
        "\n",
        "# from tensorflow.keras.layers import Input, Dense, Embedding, TimeDistributed, LSTM, Bidirectional, GRU, Conv1D, Dropout"
      ],
      "execution_count": null,
      "outputs": []
    },
    {
      "cell_type": "code",
      "metadata": {
        "id": "HVkdYx26BZfz"
      },
      "source": [
        "from sklearn.model_selection import GridSearchCV\n",
        "from keras.wrappers.scikit_learn import KerasClassifier"
      ],
      "execution_count": null,
      "outputs": []
    },
    {
      "cell_type": "code",
      "metadata": {
        "id": "Yof7U19JBbId"
      },
      "source": [
        "# model = Sequential()\n",
        "# model.add(Embedding(vocab_size +1, 128, input_length = max_length))\n",
        "# model.add(Dropout(0.15))\n",
        "# model.add(Conv1D(300, 5, padding = 'valid', activation = \"relu\", strides = 1))\n",
        "# model.add(GlobalMaxPool1D())\n",
        "# model.add(Dense(n_tags, activation = \"sigmoid\"))\n",
        "# #model.add(Activation('sigmoid'))\n",
        "\n",
        "\n",
        "def get_CNN(max_length, vocab_size, n_tags):\n",
        "  input1 = Input(shape=(max_length,))\n",
        "  x = Embedding(vocab_size + 1, 128, input_length=max_length)(input1)\n",
        "  x = Dropout(0.15)(x)\n",
        "  x = Conv1D(filters=300, kernel_size=5, strides=1, padding='valid', activation='relu')(x)\n",
        "  x = GlobalMaxPool1D()(x)\n",
        "  # x = MaxPooling1D(pool_size=300)(x)\n",
        "  # x = LSTM(128, dropout=0.2, recurrent_dropout=0.2)(x)\n",
        "  out = Dense(n_tags, activation='sigmoid')(x)\n",
        "\n",
        "  model = Model(inputs=input1, outputs=out)\n",
        "  model.compile(optimizer='adam',\n",
        "                loss='binary_crossentropy',\n",
        "                metrics=['acc'])\n",
        "\n",
        "  return model\n",
        "\n",
        "def get_mCNN(max_length, vocab_size, n_tags):\n",
        "  # input1 = Input(shape=(max_length,))\n",
        "  # x = Embedding(vocab_size + 1, 128, input_length=max_length)(input1)\n",
        "  # x = Dropout(0.15)(x)\n",
        "  # x = Conv1D(filters=300, kernel_size=5, strides=1, padding='valid', activation='relu')(x)\n",
        "  # x = GlobalMaxPool1D()(x)\n",
        "  # # x = MaxPooling1D(pool_size=300)(x)\n",
        "  # # x = LSTM(128, dropout=0.2, recurrent_dropout=0.2)(x)\n",
        "  # out = Dense(n_tags, activation='sigmoid')(x)\n",
        "\n",
        "  embedding_dim = 256\n",
        "  filter_sizes = [2, 3, 5]\n",
        "  NUM_FILTERS = 256\n",
        "\n",
        "  inputs = Input(shape=(max_length,))\n",
        "  embedding = Embedding(input_dim=vocab_size+1,\n",
        "                        output_dim=embedding_dim,\n",
        "                        input_length=max_length,\n",
        "                        trainable=True)(inputs)\n",
        "\n",
        "  reshape = Reshape((max_length, embedding_dim, 1))(embedding)\n",
        "  conv_0 = Conv2D(NUM_FILTERS, \n",
        "                  kernel_size=(filter_sizes[0], embedding_dim), \n",
        "                  padding='valid', kernel_initializer='normal', \n",
        "                  activation='relu')(reshape)\n",
        "\n",
        "  conv_1 = Conv2D(NUM_FILTERS, \n",
        "                  kernel_size=(filter_sizes[1], embedding_dim), \n",
        "                  padding='valid', kernel_initializer='normal', \n",
        "                  activation='relu')(reshape)\n",
        "  conv_2 = Conv2D(NUM_FILTERS, \n",
        "                  kernel_size=(filter_sizes[2], embedding_dim), \n",
        "                  padding='valid', kernel_initializer='normal', \n",
        "                  activation='relu')(reshape)\n",
        "\n",
        "  maxpool_0 = MaxPool2D(pool_size=(max_length - filter_sizes[0] + 1, 1), strides=(1,1), padding='valid')(conv_0)\n",
        "  maxpool_1 = MaxPool2D(pool_size=(max_length - filter_sizes[1] + 1, 1), strides=(1,1), padding='valid')(conv_1)\n",
        "  maxpool_2 = MaxPool2D(pool_size=(max_length - filter_sizes[2] + 1, 1), strides=(1,1), padding='valid')(conv_2)\n",
        "  concatenated_tensor = concatenate([maxpool_0, maxpool_1, maxpool_2], axis=1)\n",
        "  flatten = Flatten()(concatenated_tensor)\n",
        "  dropout = Dropout(0.3)(flatten)\n",
        "  output = Dense(n_tags, activation='sigmoid')(dropout)\n",
        "  model = Model(inputs=inputs, outputs=output)\n",
        "\n",
        "\n",
        "  model.compile(optimizer='adam',\n",
        "                loss='binary_crossentropy',\n",
        "                metrics=['acc'])\n",
        "\n",
        "  return model\n",
        "\n",
        "\n",
        "def get_LSTM(max_length, vocab_size, n_tags):\n",
        "  input1 = Input(shape=(max_length,))\n",
        "  x = Embedding(vocab_size + 1, 300, input_length=max_length)(input1)\n",
        "  x = Dropout(0.3)(x)\n",
        "  # x = Conv1D(filters=300, kernel_size=5, strides=1, padding='valid', activation='relu')(x)\n",
        "  # x = GlobalMaxPool1D()(x)\n",
        "  # x = MaxPooling1D(pool_size=300)(x)\n",
        "  x = Bidirectional(LSTM(128, dropout=0.2, recurrent_dropout=0.2))(x)\n",
        "  out = Dense(n_tags, activation='sigmoid')(x)\n",
        "\n",
        "  model = Model(inputs=input1, outputs=out)\n",
        "\n",
        "\n",
        "  model.compile(optimizer='adam',\n",
        "                loss='binary_crossentropy',\n",
        "                metrics=['acc'])\n",
        "\n",
        "  return model\n",
        "\n",
        "def get_lstm_cnn_model(max_length, vocab_size, n_tags):\n",
        "    embedding_dim = 300\n",
        "    input = Input(shape=(max_length, ))\n",
        "    x = Embedding(vocab_size, embedding_dim, input_length=max_length, trainable=True)(input)\n",
        "    x = SpatialDropout1D(0.4)(x)\n",
        "    x = Bidirectional(LSTM(128, return_sequences=True))(x)\n",
        "    x = Conv1D(300, kernel_size = 5, padding = \"valid\", kernel_initializer = \"he_uniform\")(x)\n",
        "    avg_pool = GlobalAveragePooling1D()(x)\n",
        "    max_pool = GlobalMaxPooling1D()(x)\n",
        "    concat = concatenate([avg_pool, max_pool])\n",
        "    dropout = Dropout(0.4)(concat)\n",
        "    output = Dense(n_tags, activation=\"sigmoid\")(dropout)\n",
        "\n",
        "    model = Model(inputs=input, outputs=output)\n",
        "    model.compile(loss='binary_crossentropy',\n",
        "                  optimizer=Adam(lr=0.001),\n",
        "                  metrics=['accuracy'])\n",
        "    return model\n"
      ],
      "execution_count": null,
      "outputs": []
    },
    {
      "cell_type": "markdown",
      "metadata": {
        "id": "pUHk43kfrVC9"
      },
      "source": [
        "## LSTM+CNN"
      ]
    },
    {
      "cell_type": "code",
      "metadata": {
        "colab": {
          "base_uri": "https://localhost:8080/"
        },
        "id": "sIB5LuuFB2Eb",
        "outputId": "57838315-7bf0-4db1-e677-e84f2b2b8a1a"
      },
      "source": [
        "# model.compile(optimizer='adam', \n",
        "#               loss='binary_crossentropy', \n",
        "#               metrics=['accuracy'])\n",
        "\n",
        "model = get_lstm_cnn_model(max_length, vocab_size, n_tags)\n",
        "model.summary()"
      ],
      "execution_count": null,
      "outputs": [
        {
          "output_type": "stream",
          "text": [
            "Model: \"model\"\n",
            "__________________________________________________________________________________________________\n",
            "Layer (type)                    Output Shape         Param #     Connected to                     \n",
            "==================================================================================================\n",
            "input_1 (InputLayer)            [(None, 1288)]       0                                            \n",
            "__________________________________________________________________________________________________\n",
            "embedding (Embedding)           (None, 1288, 300)    35844900    input_1[0][0]                    \n",
            "__________________________________________________________________________________________________\n",
            "spatial_dropout1d (SpatialDropo (None, 1288, 300)    0           embedding[0][0]                  \n",
            "__________________________________________________________________________________________________\n",
            "bidirectional (Bidirectional)   (None, 1288, 256)    439296      spatial_dropout1d[0][0]          \n",
            "__________________________________________________________________________________________________\n",
            "conv1d (Conv1D)                 (None, 1284, 300)    384300      bidirectional[0][0]              \n",
            "__________________________________________________________________________________________________\n",
            "global_average_pooling1d (Globa (None, 300)          0           conv1d[0][0]                     \n",
            "__________________________________________________________________________________________________\n",
            "global_max_pooling1d (GlobalMax (None, 300)          0           conv1d[0][0]                     \n",
            "__________________________________________________________________________________________________\n",
            "concatenate (Concatenate)       (None, 600)          0           global_average_pooling1d[0][0]   \n",
            "                                                                 global_max_pooling1d[0][0]       \n",
            "__________________________________________________________________________________________________\n",
            "dropout (Dropout)               (None, 600)          0           concatenate[0][0]                \n",
            "__________________________________________________________________________________________________\n",
            "dense (Dense)                   (None, 70)           42070       dropout[0][0]                    \n",
            "==================================================================================================\n",
            "Total params: 36,710,566\n",
            "Trainable params: 36,710,566\n",
            "Non-trainable params: 0\n",
            "__________________________________________________________________________________________________\n"
          ],
          "name": "stdout"
        }
      ]
    },
    {
      "cell_type": "code",
      "metadata": {
        "colab": {
          "base_uri": "https://localhost:8080/",
          "height": 856
        },
        "id": "947jSEGeTdXN",
        "outputId": "c29a23ba-dd3c-42bd-b73f-4630d9a42c85"
      },
      "source": [
        "plot_model(model)"
      ],
      "execution_count": null,
      "outputs": [
        {
          "output_type": "execute_result",
          "data": {
            "image/png": "[encoded data removed]",
            "text/plain": [
              "<IPython.core.display.Image object>"
            ]
          },
          "metadata": {
            "tags": []
          },
          "execution_count": 44
        }
      ]
    },
    {
      "cell_type": "code",
      "metadata": {
        "id": "0aiD75jZB4M5"
      },
      "source": [
        "callbacks = [\n",
        "            #  EarlyStopping(patience=3),\n",
        "             ModelCheckpoint(filepath='model-cnn-lstm.h5', save_best_only=True)\n",
        "            ]"
      ],
      "execution_count": null,
      "outputs": []
    },
    {
      "cell_type": "code",
      "metadata": {
        "colab": {
          "base_uri": "https://localhost:8080/"
        },
        "id": "UFx1PimtB7NB",
        "outputId": "fcc89630-377c-4846-ce6c-bd25b6807980"
      },
      "source": [
        "history = model.fit(x_train, y_train,\n",
        "                    epochs=15,\n",
        "                    batch_size=128,\n",
        "                    validation_data=(x_val, y_val),\n",
        "                    callbacks=callbacks)"
      ],
      "execution_count": null,
      "outputs": [
        {
          "output_type": "stream",
          "text": [
            "Epoch 1/15\n",
            "47/47 [==============================] - 42s 832ms/step - loss: 0.3512 - accuracy: 0.2521 - val_loss: 0.1562 - val_accuracy: 0.5155\n",
            "Epoch 2/15\n",
            "47/47 [==============================] - 38s 811ms/step - loss: 0.1617 - accuracy: 0.4657 - val_loss: 0.1535 - val_accuracy: 0.5170\n",
            "Epoch 3/15\n",
            "47/47 [==============================] - 38s 818ms/step - loss: 0.1559 - accuracy: 0.4792 - val_loss: 0.1457 - val_accuracy: 0.4825\n",
            "Epoch 4/15\n",
            "47/47 [==============================] - 38s 811ms/step - loss: 0.1452 - accuracy: 0.4131 - val_loss: 0.1361 - val_accuracy: 0.3900\n",
            "Epoch 5/15\n",
            "47/47 [==============================] - 38s 812ms/step - loss: 0.1349 - accuracy: 0.3947 - val_loss: 0.1318 - val_accuracy: 0.4435\n",
            "Epoch 6/15\n",
            "47/47 [==============================] - 38s 813ms/step - loss: 0.1280 - accuracy: 0.4323 - val_loss: 0.1260 - val_accuracy: 0.4345\n",
            "Epoch 7/15\n",
            "47/47 [==============================] - 38s 815ms/step - loss: 0.1198 - accuracy: 0.4422 - val_loss: 0.1222 - val_accuracy: 0.4275\n",
            "Epoch 8/15\n",
            "47/47 [==============================] - 38s 812ms/step - loss: 0.1112 - accuracy: 0.4530 - val_loss: 0.1213 - val_accuracy: 0.4550\n",
            "Epoch 9/15\n",
            "47/47 [==============================] - 38s 810ms/step - loss: 0.1068 - accuracy: 0.4818 - val_loss: 0.1206 - val_accuracy: 0.4195\n",
            "Epoch 10/15\n",
            "47/47 [==============================] - 38s 814ms/step - loss: 0.1009 - accuracy: 0.4823 - val_loss: 0.1176 - val_accuracy: 0.4485\n",
            "Epoch 11/15\n",
            "47/47 [==============================] - 38s 811ms/step - loss: 0.0944 - accuracy: 0.5018 - val_loss: 0.1175 - val_accuracy: 0.3855\n",
            "Epoch 12/15\n",
            "47/47 [==============================] - 38s 812ms/step - loss: 0.0897 - accuracy: 0.4967 - val_loss: 0.1174 - val_accuracy: 0.4585\n",
            "Epoch 13/15\n",
            "47/47 [==============================] - 38s 811ms/step - loss: 0.0840 - accuracy: 0.5103 - val_loss: 0.1181 - val_accuracy: 0.4090\n",
            "Epoch 14/15\n",
            "47/47 [==============================] - 38s 806ms/step - loss: 0.0800 - accuracy: 0.5124 - val_loss: 0.1189 - val_accuracy: 0.4075\n",
            "Epoch 15/15\n",
            "47/47 [==============================] - 38s 808ms/step - loss: 0.0750 - accuracy: 0.5317 - val_loss: 0.1204 - val_accuracy: 0.4175\n"
          ],
          "name": "stdout"
        }
      ]
    },
    {
      "cell_type": "markdown",
      "metadata": {
        "id": "QpuTG2U9JV1a"
      },
      "source": [
        "### Predict"
      ]
    },
    {
      "cell_type": "code",
      "metadata": {
        "id": "-mW_tRdjJZjU"
      },
      "source": [
        "preds = model.predict(x_test)"
      ],
      "execution_count": null,
      "outputs": []
    },
    {
      "cell_type": "code",
      "metadata": {
        "colab": {
          "base_uri": "https://localhost:8080/"
        },
        "id": "fWsSA5FwJdoj",
        "outputId": "98721af2-e9c5-4f19-bfa3-801e1da7b0ad"
      },
      "source": [
        "print(y_test[0])\n",
        "print(preds[0])"
      ],
      "execution_count": null,
      "outputs": [
        {
          "output_type": "stream",
          "text": [
            "[1 0 0 0 0 1 0 0 0 1 0 0 0 0 1 0 0 0 0 1 0 0 0 0 0 0 0 0 0 0 0 0 0 0 0 0 0\n",
            " 0 0 0 0 0 0 0 0 0 0 0 0 0 0 0 0 0 0 0 0 0 0 0 0 0 0 0 0 0 0 0 0 0]\n",
            "[0.15642843 0.00513548 0.05702417 0.07412627 0.02610114 0.04777661\n",
            " 0.00282676 0.02983481 0.0007136  0.119866   0.00505354 0.09982742\n",
            " 0.09308866 0.03402109 0.08747964 0.01887841 0.00128716 0.17079918\n",
            " 0.01579406 0.07502391 0.00681542 0.02626359 0.03522089 0.02370107\n",
            " 0.02723123 0.00201753 0.00180419 0.04757922 0.00159797 0.01099917\n",
            " 0.00617298 0.00428687 0.02034601 0.00033542 0.01844261 0.00544675\n",
            " 0.00378566 0.01181512 0.00182562 0.05685171 0.00943242 0.00127521\n",
            " 0.00085154 0.01846584 0.00090879 0.00031539 0.00210553 0.00186486\n",
            " 0.00441759 0.00030834 0.00427633 0.04232186 0.00174661 0.00366715\n",
            " 0.0021578  0.02093055 0.00018994 0.00918353 0.00533599 0.02006719\n",
            " 0.00035377 0.0017586  0.00111737 0.0070921  0.00503077 0.00059585\n",
            " 0.00199674 0.00433086 0.00245848 0.00785224]\n"
          ],
          "name": "stdout"
        }
      ]
    },
    {
      "cell_type": "code",
      "metadata": {
        "id": "G6u6HfZOJwuq"
      },
      "source": [
        "from sklearn.metrics import f1_score\n",
        "\n",
        "threshold = [i*0.01 for i in range(100)]\n",
        "f1_score_list = []\n",
        "for t in threshold:\n",
        "  preds_int = (preds >= t).astype(int)\n",
        "  f1_score_list.append(f1_score(y_test, preds_int, average=\"weighted\"))"
      ],
      "execution_count": null,
      "outputs": []
    },
    {
      "cell_type": "code",
      "metadata": {
        "colab": {
          "base_uri": "https://localhost:8080/"
        },
        "id": "Ar9jBaPZJ4ti",
        "outputId": "3802f0d6-39b1-4d30-b69f-12222a0c507f"
      },
      "source": [
        "len(threshold)\n",
        "len(f1_score_list)"
      ],
      "execution_count": null,
      "outputs": [
        {
          "output_type": "execute_result",
          "data": {
            "text/plain": [
              "100"
            ]
          },
          "metadata": {
            "tags": []
          },
          "execution_count": 62
        }
      ]
    },
    {
      "cell_type": "code",
      "metadata": {
        "colab": {
          "base_uri": "https://localhost:8080/",
          "height": 263
        },
        "id": "_9mXdnuOjy9s",
        "outputId": "bef727a3-eb9e-45ad-9f5f-fc604b7a2670"
      },
      "source": [
        "import matplotlib.pyplot as plt\n",
        "plt.plot(threshold, f1_score_list)\n",
        "plt.show()"
      ],
      "execution_count": null,
      "outputs": [
        {
          "output_type": "display_data",
          "data": {
            "image/png": "[encoded data removed]",
            "text/plain": [
              "<Figure size 432x288 with 1 Axes>"
            ]
          },
          "metadata": {
            "tags": [],
            "needs_background": "light"
          }
        }
      ]
    },
    {
      "cell_type": "code",
      "metadata": {
        "colab": {
          "base_uri": "https://localhost:8080/"
        },
        "id": "SNQ-6rrUj9Bh",
        "outputId": "29fa44a7-f677-49a1-b100-6fa739dee602"
      },
      "source": [
        "# max(f1_score_list)\n",
        "opt_threshold = threshold[f1_score_list.index(max(f1_score_list))]\n",
        "print(opt_threshold)\n",
        "print(max(f1_score_list))"
      ],
      "execution_count": null,
      "outputs": [
        {
          "output_type": "stream",
          "text": [
            "0.12\n",
            "0.49898503876081046\n"
          ],
          "name": "stdout"
        }
      ]
    },
    {
      "cell_type": "markdown",
      "metadata": {
        "id": "wHGOLp-sR94n"
      },
      "source": [
        "### Example"
      ]
    },
    {
      "cell_type": "code",
      "metadata": {
        "id": "2uURsvHpUXtd"
      },
      "source": [
        "tags_pred = model.predict(padded_content)"
      ],
      "execution_count": null,
      "outputs": []
    },
    {
      "cell_type": "code",
      "metadata": {
        "colab": {
          "base_uri": "https://localhost:8080/"
        },
        "id": "IdnDxxElSARa",
        "outputId": "bda79b2d-a5a2-4bb4-fd0c-af352674c54c"
      },
      "source": [
        "def example_pred(i):\n",
        "  print(df_content['topic_id'][i])\n",
        "  print(df_content['title'][i])\n",
        "  print('=====')\n",
        "  print(df_content['content'][i][:500])\n",
        "  print('=====')\n",
        "  print('Actual Tag')\n",
        "  print(df_content['tags'][i])\n",
        "  print('=====')\n",
        "  print('Predicted Tags')\n",
        "\n",
        "  tags_pred_idx = tags_pred[i] >= opt_threshold\n",
        "  tags_pred_i = []\n",
        "  for j, k in enumerate(tags_pred_idx):\n",
        "    if k:\n",
        "      tags_pred_i.append(idx_to_tag[j])\n",
        "  print(tags_pred_i)\n",
        "  print('=====')\n",
        "  print('Corrected')\n",
        "  corrected_tags = set(tags_pred_i).intersection(set(df_content['tags'][i]))\n",
        "  print(corrected_tags)\n",
        "  print('=======================')\n",
        "  print('=======================\\n')\n",
        "\n",
        "example_pred(501)\n",
        "example_pred(627)\n",
        "example_pred(8627)\n",
        "example_pred(7532)"
      ],
      "execution_count": null,
      "outputs": [
        {
          "output_type": "stream",
          "text": [
            "40482209\n",
            "[Travelling As A Couple] ทริปพักผ่อนชิลๆ ที่กระบี่ ที่พักดีงาม Pimalai Resort &Spa\n",
            "=====\n",
            "\n",
            "\n",
            "หลังจากโควิดระบาดเราก็ไม่ได้นั่งเครื่องบินออกนอกประเทศเลย เลยต้องหาที่เที่ยวในประเทศ ไปเที่ยวพักผ่อนบ้าง สำหรับบ้านเราถ้าให้เลือกระหว่างทะเลกับภูเขา ทะเลก็ยังคงเป็นที่หนึ่งในใจเสมอ\n",
            "\n",
            "ทริปนี้เลยเลือกมาทะเลทางใต้ดูบ้าง ก่อนหน้าไปหัวหิน พัทยา มาจนเบื่อแล้ว แต่ลงใต้มาหลายที แต่ยังไม่เคยได้แวะเวียนมาเที่ยวกระบี่ซักที และนี่คือครั้งแรกที่เราจะไปเที่ยวกระบี่ ทริปนี้กะไว้แล้วว่าไปเที่ยวแบบพักผ่อนจริงๆ นอนอยู่โรงแรม เล่นน้ำ ทำกิจกรรมภายในโรงแรม ไม่ออกไปไหนเยอะ เพื่อลดความเสี่ยงหลายๆ อย่าง เลยต้องเลือกโร\n",
            "=====\n",
            "Actual Tag\n",
            "['เที่ยวทะเล', 'จังหวัดกระบี่', 'บันทึกนักเดินทาง', 'สถานที่ท่องเที่ยวในประเทศ', 'สถานที่ท่องเที่ยวสำหรับครอบครัว']\n",
            "=====\n",
            "Predicted Tags\n",
            "['บันทึกนักเดินทาง', 'เที่ยวไทย', 'สถานที่ท่องเที่ยวในประเทศ', 'โรงแรมรีสอร์ท', 'เที่ยวทะเล', 'ท่องเที่ยว', 'โรงแรมรีสอร์ทไทย', 'สถานที่ท่องเที่ยวสำหรับครอบครัว', 'จังหวัดภูเก็ต', 'ที่พัก']\n",
            "=====\n",
            "Corrected\n",
            "{'บันทึกนักเดินทาง', 'เที่ยวทะเล', 'สถานที่ท่องเที่ยวในประเทศ', 'สถานที่ท่องเที่ยวสำหรับครอบครัว'}\n",
            "=======================\n",
            "=======================\n",
            "\n",
            "40437348\n",
            "อุบลราชธานี: พระอาทิตย์ขึ้นก่อนใคร ที่สุดขอบแดนอีสาน\n",
            "=====\n",
            "\n",
            "สวัสดีครับ\n",
            "\n",
            "กลับมาเจอกันอีกแล้วนะครับ ท่ามกลางช่วงเวลาที่โควิด-19 ถล่มแทบทั้งโลกแบบนี้ เพื่อความปลอดภัยของตัวเราและเพื่อช่วยประเทศเรา ปีนี้เราก็เที่ยวในประเทศกันไปรัวๆครับ\n",
            "ทริปนี้เป็นทริปที่เราไปมาช่วงเดือนพฤศจิกายนที่ผ่านมา ก่อนที่โควิด-19จะมาระเบิดในเมืองไทย สำหรับคราวนี้เป็นทริปสั้นๆครับ เราไปกันที่จังหวัดอันโด่งดังแห่งแดนอีสาน นั่นก็คือ อุบลราชธานี นั่นเองครับ \n",
            "\n",
            "มาพูดถึงจังหวัดนี้กันซักหน่อยนะครับ อุบลราชธานีเป็นจังหวัดที่ตั้งอยู่ทางตะวันออกที่สุดของภาคตะวันออกเฉียงเหนือของไทย เป็นจังหวัดที\n",
            "=====\n",
            "Actual Tag\n",
            "['การท่องเที่ยวแห่งประเทศไทย', 'ภาพถ่ายทิวทัศน์', 'บันทึกนักเดินทาง', 'สถานที่ท่องเที่ยวในประเทศ', 'เที่ยวไทย']\n",
            "=====\n",
            "Predicted Tags\n",
            "['บันทึกนักเดินทาง', 'เที่ยวไทย', 'สถานที่ท่องเที่ยวในประเทศ', 'Backpack', 'ภาพถ่ายทิวทัศน์', 'เที่ยวภูเขา']\n",
            "=====\n",
            "Corrected\n",
            "{'ภาพถ่ายทิวทัศน์', 'สถานที่ท่องเที่ยวในประเทศ', 'เที่ยวไทย', 'บันทึกนักเดินทาง'}\n",
            "=======================\n",
            "=======================\n",
            "\n",
            "38934824\n",
            "(Mom's Day In Macau) มาเก๊า-ฮ่องกง ง่ายๆ พ่อแม่ก็ไปได้\n",
            "=====\n",
            "\n",
            "\n",
            "\n",
            "\n",
            "Mom's Day In Macau\n",
            "สวัสดีทุกคนค่ะ หลังจากห่างหายการรีวิวเรื่องเที่ยวมานาน\n",
            "ถึงแม้ว่าจะเที่ยวไม่ขาดสาย เพราะความขี้เกียจ เลยไม่ได้มาลงเสียนาน วันนี้เลยได้ฤกษ์เอาคอมมาปัดฝุ่น ลงรีวิวให้ทุกคนได้อ่านกัน\n",
            "แต่อย่าเรียกมันว่ารีวิวเลยค่ะ ถือว่าเป็นบันทึกการท่องเที่ยวของเราที่แบ่งปันให้ทุกคนอ่านจะดีกว่า\n",
            "คราวนี้ เราได้มีโอกาสไปเที่ยวประเทศใกล้ๆ อย่างมาเก๊า กับฮ่องกง เมื่อช่วงปลายเดือนพฤษภาคมที่ผ่านมา\n",
            "แต่ว่าเราไม่ได้ไปคนเดียว ยกโขยงกันไปทั้งบ้าน ซึ่งประกอบด้วยพ่อ แม่ และน้องสาวของเราอีกคน\n",
            "ตอนแรก แพลนนี้ไ\n",
            "=====\n",
            "Actual Tag\n",
            "['เที่ยวต่างประเทศ', 'บันทึกนักเดินทาง', 'มาเก๊า', 'แผนการเดินทางและท่องเที่ยว']\n",
            "=====\n",
            "Predicted Tags\n",
            "['บันทึกนักเดินทาง', 'เที่ยวต่างประเทศ', 'สถานที่ท่องเที่ยวต่างประเทศ']\n",
            "=====\n",
            "Corrected\n",
            "{'บันทึกนักเดินทาง', 'เที่ยวต่างประเทศ'}\n",
            "=======================\n",
            "=======================\n",
            "\n",
            "39093289\n",
            "เที่ยวพม่าหน้าหนาว เช่ารถพร้อมคนขับ เมืองพิลอูวิน pyin oo lwin และสีป้อ Hsipaw Day2/6\n",
            "=====\n",
            "\r\n",
            "\t\t\t\t\t\t\t\t\t\t\t\t\t\t\t\t      หลังจากที่ทีมเราได้ท่องเที่ยวพม่าทริปที่สองกับเพื่อนๆ ที่ย่างกุ้ง หงสาวดี มัณฑะเลย์   กับ Mr.Tun Tun  คนขับรถและเป็นไกด์ด้วย ประทับใจในการบริการที่ดีเยี่ยม ได้ติดต่อพูดคุยกับทางไลน์ และเฟสบุค กันเรื่อยมา  และมีเพื่อนๆพี่น้องในทริปที่ผ่านมาติดใจในการท่องเที่ยวแบบที่ได้วางแผนกันเอง จึงอยากจะไปเที่ยวพม่าที่เมืองอื่นแบบบรรยากาศธรรมชาติหน้าหนาวกันอีกบ้าง จึงได้รวบรวมสมาชิกได้ 9 คน ตั้งกรุฟไลน์กรุฟ ชื่อว่า \"Winter 19@Chan stage\"   เกิดทริปสุดแสนประทับใจแบบสุดคุ้มอีกครั้ง หลังจา\n",
            "=====\n",
            "Actual Tag\n",
            "['สถานที่ท่องเที่ยวต่างประเทศ', 'บันทึกนักเดินทาง', 'ประเทศพม่า', 'นักท่องเที่ยว', 'เที่ยวต่างประเทศ']\n",
            "=====\n",
            "Predicted Tags\n",
            "['บันทึกนักเดินทาง', 'เที่ยวต่างประเทศ', 'สถานที่ท่องเที่ยวต่างประเทศ', 'ภาพถ่ายทิวทัศน์']\n",
            "=====\n",
            "Corrected\n",
            "{'บันทึกนักเดินทาง', 'สถานที่ท่องเที่ยวต่างประเทศ', 'เที่ยวต่างประเทศ'}\n",
            "=======================\n",
            "=======================\n",
            "\n"
          ],
          "name": "stdout"
        }
      ]
    },
    {
      "cell_type": "markdown",
      "metadata": {
        "id": "j12DBhuLulEQ"
      },
      "source": [
        "## Multi-CNN"
      ]
    },
    {
      "cell_type": "code",
      "metadata": {
        "colab": {
          "base_uri": "https://localhost:8080/"
        },
        "id": "yttG0V1BulEQ",
        "outputId": "fe2c39e7-92a9-41e1-81d0-35455a9d25a7"
      },
      "source": [
        "# model.compile(optimizer='adam', \n",
        "#               loss='binary_crossentropy', \n",
        "#               metrics=['accuracy'])\n",
        "\n",
        "model = get_mCNN(max_length, vocab_size, n_tags)\n",
        "model.summary()"
      ],
      "execution_count": null,
      "outputs": [
        {
          "output_type": "stream",
          "text": [
            "Model: \"model_1\"\n",
            "__________________________________________________________________________________________________\n",
            "Layer (type)                    Output Shape         Param #     Connected to                     \n",
            "==================================================================================================\n",
            "input_2 (InputLayer)            [(None, 1288)]       0                                            \n",
            "__________________________________________________________________________________________________\n",
            "embedding_1 (Embedding)         (None, 1288, 256)    30587904    input_2[0][0]                    \n",
            "__________________________________________________________________________________________________\n",
            "reshape (Reshape)               (None, 1288, 256, 1) 0           embedding_1[0][0]                \n",
            "__________________________________________________________________________________________________\n",
            "conv2d (Conv2D)                 (None, 1287, 1, 256) 131328      reshape[0][0]                    \n",
            "__________________________________________________________________________________________________\n",
            "conv2d_1 (Conv2D)               (None, 1286, 1, 256) 196864      reshape[0][0]                    \n",
            "__________________________________________________________________________________________________\n",
            "conv2d_2 (Conv2D)               (None, 1284, 1, 256) 327936      reshape[0][0]                    \n",
            "__________________________________________________________________________________________________\n",
            "max_pooling2d (MaxPooling2D)    (None, 1, 1, 256)    0           conv2d[0][0]                     \n",
            "__________________________________________________________________________________________________\n",
            "max_pooling2d_1 (MaxPooling2D)  (None, 1, 1, 256)    0           conv2d_1[0][0]                   \n",
            "__________________________________________________________________________________________________\n",
            "max_pooling2d_2 (MaxPooling2D)  (None, 1, 1, 256)    0           conv2d_2[0][0]                   \n",
            "__________________________________________________________________________________________________\n",
            "concatenate_1 (Concatenate)     (None, 3, 1, 256)    0           max_pooling2d[0][0]              \n",
            "                                                                 max_pooling2d_1[0][0]            \n",
            "                                                                 max_pooling2d_2[0][0]            \n",
            "__________________________________________________________________________________________________\n",
            "flatten (Flatten)               (None, 768)          0           concatenate_1[0][0]              \n",
            "__________________________________________________________________________________________________\n",
            "dropout_1 (Dropout)             (None, 768)          0           flatten[0][0]                    \n",
            "__________________________________________________________________________________________________\n",
            "dense_1 (Dense)                 (None, 70)           53830       dropout_1[0][0]                  \n",
            "==================================================================================================\n",
            "Total params: 31,297,862\n",
            "Trainable params: 31,297,862\n",
            "Non-trainable params: 0\n",
            "__________________________________________________________________________________________________\n"
          ],
          "name": "stdout"
        }
      ]
    },
    {
      "cell_type": "code",
      "metadata": {
        "id": "a0hJc6aVW5TH",
        "colab": {
          "base_uri": "https://localhost:8080/",
          "height": 856
        },
        "outputId": "f15c6c43-4daa-41db-bf1c-b3c6dcc7493f"
      },
      "source": [
        "plot_model(model)"
      ],
      "execution_count": null,
      "outputs": [
        {
          "output_type": "execute_result",
          "data": {
            "image/png": "[encoded data removed]",
            "text/plain": [
              "<IPython.core.display.Image object>"
            ]
          },
          "metadata": {
            "tags": []
          },
          "execution_count": 46
        }
      ]
    },
    {
      "cell_type": "code",
      "metadata": {
        "id": "AzcwZy2DulER"
      },
      "source": [
        "callbacks = [\n",
        "            #  EarlyStopping(patience=3),\n",
        "             ModelCheckpoint(filepath='model-cnn.h5', save_best_only=True)\n",
        "            ]"
      ],
      "execution_count": null,
      "outputs": []
    },
    {
      "cell_type": "code",
      "metadata": {
        "colab": {
          "base_uri": "https://localhost:8080/"
        },
        "id": "At_RDhGNulES",
        "outputId": "e9c2c08f-f5c6-4aa1-dcb1-24ed89ec09da"
      },
      "source": [
        "history = model.fit(x_train, y_train,\n",
        "                    epochs=15,\n",
        "                    batch_size=128,\n",
        "                    validation_data=(x_val, y_val),\n",
        "                    callbacks=callbacks)"
      ],
      "execution_count": null,
      "outputs": [
        {
          "output_type": "stream",
          "text": [
            "Epoch 1/15\n",
            "47/47 [==============================] - 1752s 18s/step - loss: 0.3716 - acc: 0.3559 - val_loss: 0.1574 - val_acc: 0.5155\n",
            "Epoch 2/15\n",
            "47/47 [==============================] - 35s 738ms/step - loss: 0.1564 - acc: 0.5157 - val_loss: 0.1504 - val_acc: 0.5290\n",
            "Epoch 3/15\n",
            "47/47 [==============================] - 35s 741ms/step - loss: 0.1469 - acc: 0.5226 - val_loss: 0.1400 - val_acc: 0.4620\n",
            "Epoch 4/15\n",
            "47/47 [==============================] - 35s 742ms/step - loss: 0.1338 - acc: 0.4797 - val_loss: 0.1292 - val_acc: 0.4775\n",
            "Epoch 5/15\n",
            "47/47 [==============================] - 35s 737ms/step - loss: 0.1227 - acc: 0.4650 - val_loss: 0.1211 - val_acc: 0.4635\n",
            "Epoch 6/15\n",
            "47/47 [==============================] - 35s 739ms/step - loss: 0.1120 - acc: 0.4748 - val_loss: 0.1157 - val_acc: 0.4390\n",
            "Epoch 7/15\n",
            "47/47 [==============================] - 35s 744ms/step - loss: 0.1035 - acc: 0.4726 - val_loss: 0.1111 - val_acc: 0.4375\n",
            "Epoch 8/15\n",
            "47/47 [==============================] - 35s 743ms/step - loss: 0.0946 - acc: 0.5091 - val_loss: 0.1079 - val_acc: 0.4420\n",
            "Epoch 9/15\n",
            "47/47 [==============================] - 35s 741ms/step - loss: 0.0865 - acc: 0.5256 - val_loss: 0.1051 - val_acc: 0.4080\n",
            "Epoch 10/15\n",
            "47/47 [==============================] - 35s 741ms/step - loss: 0.0782 - acc: 0.5480 - val_loss: 0.1041 - val_acc: 0.3870\n",
            "Epoch 11/15\n",
            "47/47 [==============================] - 35s 739ms/step - loss: 0.0702 - acc: 0.5380 - val_loss: 0.1020 - val_acc: 0.3750\n",
            "Epoch 12/15\n",
            "47/47 [==============================] - 35s 739ms/step - loss: 0.0619 - acc: 0.5726 - val_loss: 0.1015 - val_acc: 0.4105\n",
            "Epoch 13/15\n",
            "47/47 [==============================] - 35s 738ms/step - loss: 0.0538 - acc: 0.5795 - val_loss: 0.1017 - val_acc: 0.4085\n",
            "Epoch 14/15\n",
            "47/47 [==============================] - 35s 741ms/step - loss: 0.0458 - acc: 0.5973 - val_loss: 0.1015 - val_acc: 0.3855\n",
            "Epoch 15/15\n",
            "47/47 [==============================] - 35s 740ms/step - loss: 0.0387 - acc: 0.5845 - val_loss: 0.1029 - val_acc: 0.4025\n"
          ],
          "name": "stdout"
        }
      ]
    },
    {
      "cell_type": "markdown",
      "metadata": {
        "id": "9J4qoIdIulES"
      },
      "source": [
        "### Predict"
      ]
    },
    {
      "cell_type": "code",
      "metadata": {
        "id": "qtg35OoPulES"
      },
      "source": [
        "preds = model.predict(x_test)"
      ],
      "execution_count": null,
      "outputs": []
    },
    {
      "cell_type": "code",
      "metadata": {
        "colab": {
          "base_uri": "https://localhost:8080/"
        },
        "id": "xI1c7g1pulES",
        "outputId": "02e04429-2f23-47f7-8b0f-0d5c77111e65"
      },
      "source": [
        "print(y_test[0])\n",
        "print(preds[0])"
      ],
      "execution_count": null,
      "outputs": [
        {
          "output_type": "stream",
          "text": [
            "[1 0 0 0 0 1 0 0 0 1 0 0 0 0 1 0 0 0 0 1 0 0 0 0 0 0 0 0 0 0 0 0 0 0 0 0 0\n",
            " 0 0 0 0 0 0 0 0 0 0 0 0 0 0 0 0 0 0 0 0 0 0 0 0 0 0 0 0 0 0 0 0 0]\n",
            "[3.44712913e-01 1.52967703e-02 1.06259011e-01 1.77097842e-02\n",
            " 1.69162471e-02 3.36035155e-02 1.65901519e-02 2.27023996e-02\n",
            " 1.17777311e-03 4.86382633e-01 9.67931747e-03 4.94072586e-02\n",
            " 2.89142411e-02 1.09645659e-02 7.41148461e-03 6.05610665e-03\n",
            " 1.11438672e-03 5.41404895e-02 6.66857371e-03 8.58765244e-02\n",
            " 4.29703528e-03 1.61520094e-02 1.12606995e-02 1.37043064e-02\n",
            " 1.42286113e-02 3.74570885e-03 1.17411022e-03 3.31293046e-02\n",
            " 1.44551671e-03 3.06391343e-03 2.29946128e-03 2.18585599e-03\n",
            " 3.68490722e-03 1.63608478e-04 1.05477963e-02 9.63194936e-04\n",
            " 8.27893746e-05 2.79785227e-03 3.17567470e-03 5.59989177e-03\n",
            " 1.13549568e-02 2.96195014e-03 4.21411736e-04 6.50878400e-02\n",
            " 1.66637846e-03 1.24422149e-04 8.41226615e-03 1.57404260e-03\n",
            " 1.21557887e-03 1.28280313e-04 1.81743701e-03 1.24998661e-02\n",
            " 4.49679093e-03 1.03437703e-03 7.68995378e-04 3.08681605e-03\n",
            " 1.06296141e-03 4.38544760e-03 3.60414939e-04 1.87578667e-02\n",
            " 7.84192875e-04 7.19942991e-03 8.69395619e-04 1.19868887e-03\n",
            " 8.94202793e-04 1.31587978e-04 9.22386243e-04 1.02412154e-03\n",
            " 1.66293234e-04 6.92157657e-04]\n"
          ],
          "name": "stdout"
        }
      ]
    },
    {
      "cell_type": "code",
      "metadata": {
        "id": "3OtDS0amulET"
      },
      "source": [
        "from sklearn.metrics import f1_score\n",
        "\n",
        "threshold = [i*0.01 for i in range(100)]\n",
        "f1_score_list = []\n",
        "for t in threshold:\n",
        "  preds_int = (preds >= t).astype(int)\n",
        "  f1_score_list.append(f1_score(y_test, preds_int, average=\"weighted\"))"
      ],
      "execution_count": null,
      "outputs": []
    },
    {
      "cell_type": "code",
      "metadata": {
        "colab": {
          "base_uri": "https://localhost:8080/"
        },
        "id": "5-9Zq1LQulET",
        "outputId": "be28b939-47fc-40b0-c189-1d075ef18977"
      },
      "source": [
        "len(threshold)\n",
        "len(f1_score_list)"
      ],
      "execution_count": null,
      "outputs": [
        {
          "output_type": "execute_result",
          "data": {
            "text/plain": [
              "100"
            ]
          },
          "metadata": {
            "tags": []
          },
          "execution_count": 73
        }
      ]
    },
    {
      "cell_type": "code",
      "metadata": {
        "colab": {
          "base_uri": "https://localhost:8080/",
          "height": 263
        },
        "id": "un8lFLu7ulET",
        "outputId": "b787a254-fcca-485f-f49d-0aaaef57eaae"
      },
      "source": [
        "import matplotlib.pyplot as plt\n",
        "plt.plot(threshold, f1_score_list)\n",
        "plt.show()"
      ],
      "execution_count": null,
      "outputs": [
        {
          "output_type": "display_data",
          "data": {
            "image/png": "[encoded data removed]",
            "text/plain": [
              "<Figure size 432x288 with 1 Axes>"
            ]
          },
          "metadata": {
            "tags": [],
            "needs_background": "light"
          }
        }
      ]
    },
    {
      "cell_type": "code",
      "metadata": {
        "colab": {
          "base_uri": "https://localhost:8080/"
        },
        "id": "zQadxsbqulET",
        "outputId": "84a83252-034c-44b2-b8c5-221a8726dceb"
      },
      "source": [
        "# max(f1_score_list)\n",
        "opt_threshold = threshold[f1_score_list.index(max(f1_score_list))]\n",
        "print(opt_threshold)\n",
        "print(max(f1_score_list))"
      ],
      "execution_count": null,
      "outputs": [
        {
          "output_type": "stream",
          "text": [
            "0.12\n",
            "0.5512896393641281\n"
          ],
          "name": "stdout"
        }
      ]
    },
    {
      "cell_type": "markdown",
      "metadata": {
        "id": "tDuZjFD1ulET"
      },
      "source": [
        "### Example"
      ]
    },
    {
      "cell_type": "code",
      "metadata": {
        "id": "ZXaTc2J5ulEU"
      },
      "source": [
        "tags_pred = model.predict(padded_content)"
      ],
      "execution_count": null,
      "outputs": []
    },
    {
      "cell_type": "code",
      "metadata": {
        "colab": {
          "base_uri": "https://localhost:8080/"
        },
        "id": "nSlpUVhOulEU",
        "outputId": "6379b80c-88be-4a1c-f331-53d1f4f003da"
      },
      "source": [
        "def example_pred(i):\n",
        "  print(df_content['topic_id'][i])\n",
        "  print(df_content['title'][i])\n",
        "  print('=====')\n",
        "  print(df_content['content'][i][:500])\n",
        "  print('=====')\n",
        "  print('Actual Tag')\n",
        "  print(df_content['tags'][i])\n",
        "  print('=====')\n",
        "  print('Predicted Tags')\n",
        "\n",
        "  tags_pred_idx = tags_pred[i] >= opt_threshold\n",
        "  tags_pred_i = []\n",
        "  for j, k in enumerate(tags_pred_idx):\n",
        "    if k:\n",
        "      tags_pred_i.append(idx_to_tag[j])\n",
        "  print(tags_pred_i)\n",
        "  print('=====')\n",
        "  print('Corrected')\n",
        "  corrected_tags = set(tags_pred_i).intersection(set(df_content['tags'][i]))\n",
        "  print(corrected_tags)\n",
        "  print('=======================')\n",
        "  print('=======================\\n')\n",
        "\n",
        "example_pred(501)\n",
        "example_pred(627)\n",
        "example_pred(8627)\n",
        "example_pred(7532)"
      ],
      "execution_count": null,
      "outputs": [
        {
          "output_type": "stream",
          "text": [
            "40482209\n",
            "[Travelling As A Couple] ทริปพักผ่อนชิลๆ ที่กระบี่ ที่พักดีงาม Pimalai Resort &Spa\n",
            "=====\n",
            "\n",
            "\n",
            "หลังจากโควิดระบาดเราก็ไม่ได้นั่งเครื่องบินออกนอกประเทศเลย เลยต้องหาที่เที่ยวในประเทศ ไปเที่ยวพักผ่อนบ้าง สำหรับบ้านเราถ้าให้เลือกระหว่างทะเลกับภูเขา ทะเลก็ยังคงเป็นที่หนึ่งในใจเสมอ\n",
            "\n",
            "ทริปนี้เลยเลือกมาทะเลทางใต้ดูบ้าง ก่อนหน้าไปหัวหิน พัทยา มาจนเบื่อแล้ว แต่ลงใต้มาหลายที แต่ยังไม่เคยได้แวะเวียนมาเที่ยวกระบี่ซักที และนี่คือครั้งแรกที่เราจะไปเที่ยวกระบี่ ทริปนี้กะไว้แล้วว่าไปเที่ยวแบบพักผ่อนจริงๆ นอนอยู่โรงแรม เล่นน้ำ ทำกิจกรรมภายในโรงแรม ไม่ออกไปไหนเยอะ เพื่อลดความเสี่ยงหลายๆ อย่าง เลยต้องเลือกโร\n",
            "=====\n",
            "Actual Tag\n",
            "['เที่ยวทะเล', 'จังหวัดกระบี่', 'บันทึกนักเดินทาง', 'สถานที่ท่องเที่ยวในประเทศ', 'สถานที่ท่องเที่ยวสำหรับครอบครัว']\n",
            "=====\n",
            "Predicted Tags\n",
            "['บันทึกนักเดินทาง', 'เที่ยวไทย', 'สถานที่ท่องเที่ยวในประเทศ', 'เที่ยวทะเล', 'สถานที่ท่องเที่ยวสำหรับครอบครัว']\n",
            "=====\n",
            "Corrected\n",
            "{'บันทึกนักเดินทาง', 'เที่ยวทะเล', 'สถานที่ท่องเที่ยวในประเทศ', 'สถานที่ท่องเที่ยวสำหรับครอบครัว'}\n",
            "=======================\n",
            "=======================\n",
            "\n",
            "40437348\n",
            "อุบลราชธานี: พระอาทิตย์ขึ้นก่อนใคร ที่สุดขอบแดนอีสาน\n",
            "=====\n",
            "\n",
            "สวัสดีครับ\n",
            "\n",
            "กลับมาเจอกันอีกแล้วนะครับ ท่ามกลางช่วงเวลาที่โควิด-19 ถล่มแทบทั้งโลกแบบนี้ เพื่อความปลอดภัยของตัวเราและเพื่อช่วยประเทศเรา ปีนี้เราก็เที่ยวในประเทศกันไปรัวๆครับ\n",
            "ทริปนี้เป็นทริปที่เราไปมาช่วงเดือนพฤศจิกายนที่ผ่านมา ก่อนที่โควิด-19จะมาระเบิดในเมืองไทย สำหรับคราวนี้เป็นทริปสั้นๆครับ เราไปกันที่จังหวัดอันโด่งดังแห่งแดนอีสาน นั่นก็คือ อุบลราชธานี นั่นเองครับ \n",
            "\n",
            "มาพูดถึงจังหวัดนี้กันซักหน่อยนะครับ อุบลราชธานีเป็นจังหวัดที่ตั้งอยู่ทางตะวันออกที่สุดของภาคตะวันออกเฉียงเหนือของไทย เป็นจังหวัดที\n",
            "=====\n",
            "Actual Tag\n",
            "['การท่องเที่ยวแห่งประเทศไทย', 'ภาพถ่ายทิวทัศน์', 'บันทึกนักเดินทาง', 'สถานที่ท่องเที่ยวในประเทศ', 'เที่ยวไทย']\n",
            "=====\n",
            "Predicted Tags\n",
            "['บันทึกนักเดินทาง', 'เที่ยวไทย', 'สถานที่ท่องเที่ยวในประเทศ', 'ภาพถ่ายทิวทัศน์', 'ท่องเที่ยว', 'การท่องเที่ยวแห่งประเทศไทย']\n",
            "=====\n",
            "Corrected\n",
            "{'ภาพถ่ายทิวทัศน์', 'การท่องเที่ยวแห่งประเทศไทย', 'เที่ยวไทย', 'สถานที่ท่องเที่ยวในประเทศ', 'บันทึกนักเดินทาง'}\n",
            "=======================\n",
            "=======================\n",
            "\n",
            "38934824\n",
            "(Mom's Day In Macau) มาเก๊า-ฮ่องกง ง่ายๆ พ่อแม่ก็ไปได้\n",
            "=====\n",
            "\n",
            "\n",
            "\n",
            "\n",
            "Mom's Day In Macau\n",
            "สวัสดีทุกคนค่ะ หลังจากห่างหายการรีวิวเรื่องเที่ยวมานาน\n",
            "ถึงแม้ว่าจะเที่ยวไม่ขาดสาย เพราะความขี้เกียจ เลยไม่ได้มาลงเสียนาน วันนี้เลยได้ฤกษ์เอาคอมมาปัดฝุ่น ลงรีวิวให้ทุกคนได้อ่านกัน\n",
            "แต่อย่าเรียกมันว่ารีวิวเลยค่ะ ถือว่าเป็นบันทึกการท่องเที่ยวของเราที่แบ่งปันให้ทุกคนอ่านจะดีกว่า\n",
            "คราวนี้ เราได้มีโอกาสไปเที่ยวประเทศใกล้ๆ อย่างมาเก๊า กับฮ่องกง เมื่อช่วงปลายเดือนพฤษภาคมที่ผ่านมา\n",
            "แต่ว่าเราไม่ได้ไปคนเดียว ยกโขยงกันไปทั้งบ้าน ซึ่งประกอบด้วยพ่อ แม่ และน้องสาวของเราอีกคน\n",
            "ตอนแรก แพลนนี้ไ\n",
            "=====\n",
            "Actual Tag\n",
            "['เที่ยวต่างประเทศ', 'บันทึกนักเดินทาง', 'มาเก๊า', 'แผนการเดินทางและท่องเที่ยว']\n",
            "=====\n",
            "Predicted Tags\n",
            "['บันทึกนักเดินทาง', 'เที่ยวต่างประเทศ', 'สถานที่ท่องเที่ยวต่างประเทศ', 'Backpack']\n",
            "=====\n",
            "Corrected\n",
            "{'เที่ยวต่างประเทศ', 'บันทึกนักเดินทาง'}\n",
            "=======================\n",
            "=======================\n",
            "\n",
            "39093289\n",
            "เที่ยวพม่าหน้าหนาว เช่ารถพร้อมคนขับ เมืองพิลอูวิน pyin oo lwin และสีป้อ Hsipaw Day2/6\n",
            "=====\n",
            "\r\n",
            "\t\t\t\t\t\t\t\t\t\t\t\t\t\t\t\t      หลังจากที่ทีมเราได้ท่องเที่ยวพม่าทริปที่สองกับเพื่อนๆ ที่ย่างกุ้ง หงสาวดี มัณฑะเลย์   กับ Mr.Tun Tun  คนขับรถและเป็นไกด์ด้วย ประทับใจในการบริการที่ดีเยี่ยม ได้ติดต่อพูดคุยกับทางไลน์ และเฟสบุค กันเรื่อยมา  และมีเพื่อนๆพี่น้องในทริปที่ผ่านมาติดใจในการท่องเที่ยวแบบที่ได้วางแผนกันเอง จึงอยากจะไปเที่ยวพม่าที่เมืองอื่นแบบบรรยากาศธรรมชาติหน้าหนาวกันอีกบ้าง จึงได้รวบรวมสมาชิกได้ 9 คน ตั้งกรุฟไลน์กรุฟ ชื่อว่า \"Winter 19@Chan stage\"   เกิดทริปสุดแสนประทับใจแบบสุดคุ้มอีกครั้ง หลังจา\n",
            "=====\n",
            "Actual Tag\n",
            "['สถานที่ท่องเที่ยวต่างประเทศ', 'บันทึกนักเดินทาง', 'ประเทศพม่า', 'นักท่องเที่ยว', 'เที่ยวต่างประเทศ']\n",
            "=====\n",
            "Predicted Tags\n",
            "['บันทึกนักเดินทาง', 'เที่ยวต่างประเทศ', 'สถานที่ท่องเที่ยวต่างประเทศ', 'นักท่องเที่ยว']\n",
            "=====\n",
            "Corrected\n",
            "{'บันทึกนักเดินทาง', 'นักท่องเที่ยว', 'สถานที่ท่องเที่ยวต่างประเทศ', 'เที่ยวต่างประเทศ'}\n",
            "=======================\n",
            "=======================\n",
            "\n"
          ],
          "name": "stdout"
        }
      ]
    },
    {
      "cell_type": "code",
      "metadata": {
        "id": "dimseeEmulEU"
      },
      "source": [
        ""
      ],
      "execution_count": null,
      "outputs": []
    },
    {
      "cell_type": "markdown",
      "metadata": {
        "id": "XW9OFTp79N7w"
      },
      "source": [
        "## LSTM"
      ]
    },
    {
      "cell_type": "code",
      "metadata": {
        "colab": {
          "base_uri": "https://localhost:8080/"
        },
        "id": "SqrtbSqR9N7x",
        "outputId": "7f1620a5-3767-4853-e66f-2af5ae263ba9"
      },
      "source": [
        "# model.compile(optimizer='adam', \n",
        "#               loss='binary_crossentropy', \n",
        "#               metrics=['accuracy'])\n",
        "\n",
        "model = get_LSTM(max_length, vocab_size, n_tags)\n",
        "model.summary()"
      ],
      "execution_count": null,
      "outputs": [
        {
          "output_type": "stream",
          "text": [
            "WARNING:tensorflow:Layer lstm_2 will not use cuDNN kernel since it doesn't meet the cuDNN kernel criteria. It will use generic GPU kernel as fallback when running on GPU\n",
            "WARNING:tensorflow:Layer lstm_2 will not use cuDNN kernel since it doesn't meet the cuDNN kernel criteria. It will use generic GPU kernel as fallback when running on GPU\n",
            "WARNING:tensorflow:Layer lstm_2 will not use cuDNN kernel since it doesn't meet the cuDNN kernel criteria. It will use generic GPU kernel as fallback when running on GPU\n",
            "Model: \"model_3\"\n",
            "_________________________________________________________________\n",
            "Layer (type)                 Output Shape              Param #   \n",
            "=================================================================\n",
            "input_4 (InputLayer)         [(None, 1288)]            0         \n",
            "_________________________________________________________________\n",
            "embedding_3 (Embedding)      (None, 1288, 300)         35845200  \n",
            "_________________________________________________________________\n",
            "dropout_3 (Dropout)          (None, 1288, 300)         0         \n",
            "_________________________________________________________________\n",
            "conv1d_2 (Conv1D)            (None, 1284, 300)         450300    \n",
            "_________________________________________________________________\n",
            "bidirectional_2 (Bidirection (None, 256)               439296    \n",
            "_________________________________________________________________\n",
            "dense_3 (Dense)              (None, 70)                17990     \n",
            "=================================================================\n",
            "Total params: 36,752,786\n",
            "Trainable params: 36,752,786\n",
            "Non-trainable params: 0\n",
            "_________________________________________________________________\n"
          ],
          "name": "stdout"
        }
      ]
    },
    {
      "cell_type": "code",
      "metadata": {
        "id": "L4ao_eJW9N7y"
      },
      "source": [
        "callbacks = [\n",
        "            #  EarlyStopping(patience=3),\n",
        "             ModelCheckpoint(filepath='model-lstm.h5', save_best_only=True)\n",
        "            ]"
      ],
      "execution_count": null,
      "outputs": []
    },
    {
      "cell_type": "code",
      "metadata": {
        "colab": {
          "base_uri": "https://localhost:8080/"
        },
        "id": "jJCC6tMh9N7z",
        "outputId": "0b6f7f38-5760-4142-ffd1-109adf09106c"
      },
      "source": [
        "history = model.fit(x_train, y_train,\n",
        "                    epochs=15,\n",
        "                    batch_size=128,\n",
        "                    validation_data=(x_val, y_val),\n",
        "                    callbacks=callbacks)"
      ],
      "execution_count": null,
      "outputs": [
        {
          "output_type": "stream",
          "text": [
            "Epoch 1/15\n",
            "47/47 [==============================] - 475s 10s/step - loss: 0.3701 - acc: 0.4384 - val_loss: 0.1573 - val_acc: 0.5155\n",
            "Epoch 2/15\n",
            "47/47 [==============================] - 457s 10s/step - loss: 0.1563 - acc: 0.5200 - val_loss: 0.1552 - val_acc: 0.5155\n",
            "Epoch 3/15\n",
            "47/47 [==============================] - 461s 10s/step - loss: 0.1544 - acc: 0.5156 - val_loss: 0.1514 - val_acc: 0.4955\n",
            "Epoch 4/15\n",
            "47/47 [==============================] - 457s 10s/step - loss: 0.1471 - acc: 0.5036 - val_loss: 0.1462 - val_acc: 0.4270\n",
            "Epoch 5/15\n",
            "47/47 [==============================] - 455s 10s/step - loss: 0.1377 - acc: 0.4714 - val_loss: 0.1418 - val_acc: 0.4550\n",
            "Epoch 6/15\n",
            "47/47 [==============================] - 448s 10s/step - loss: 0.1302 - acc: 0.5408 - val_loss: 0.1406 - val_acc: 0.4425\n",
            "Epoch 7/15\n",
            "47/47 [==============================] - 449s 10s/step - loss: 0.1261 - acc: 0.5828 - val_loss: 0.1394 - val_acc: 0.4400\n",
            "Epoch 8/15\n",
            "47/47 [==============================] - 452s 10s/step - loss: 0.1216 - acc: 0.5939 - val_loss: 0.1374 - val_acc: 0.4455\n",
            "Epoch 9/15\n",
            "47/47 [==============================] - 451s 10s/step - loss: 0.1162 - acc: 0.5994 - val_loss: 0.1364 - val_acc: 0.3790\n",
            "Epoch 10/15\n",
            "47/47 [==============================] - 449s 10s/step - loss: 0.1111 - acc: 0.5939 - val_loss: 0.1349 - val_acc: 0.4325\n",
            "Epoch 11/15\n",
            "47/47 [==============================] - 447s 10s/step - loss: 0.1070 - acc: 0.6123 - val_loss: 0.1348 - val_acc: 0.4240\n",
            "Epoch 12/15\n",
            "47/47 [==============================] - 452s 10s/step - loss: 0.1015 - acc: 0.6171 - val_loss: 0.1347 - val_acc: 0.4090\n",
            "Epoch 13/15\n",
            "47/47 [==============================] - 457s 10s/step - loss: 0.0987 - acc: 0.6302 - val_loss: 0.1351 - val_acc: 0.4025\n",
            "Epoch 14/15\n",
            "47/47 [==============================] - 450s 10s/step - loss: 0.0937 - acc: 0.6386 - val_loss: 0.1364 - val_acc: 0.4080\n",
            "Epoch 15/15\n",
            "47/47 [==============================] - 458s 10s/step - loss: 0.0901 - acc: 0.6450 - val_loss: 0.1372 - val_acc: 0.4040\n"
          ],
          "name": "stdout"
        }
      ]
    },
    {
      "cell_type": "markdown",
      "metadata": {
        "id": "HWppSTyq9N7z"
      },
      "source": [
        "### Predict"
      ]
    },
    {
      "cell_type": "code",
      "metadata": {
        "id": "3wG1Tb_O9N7z"
      },
      "source": [
        "preds = model.predict(x_test)"
      ],
      "execution_count": null,
      "outputs": []
    },
    {
      "cell_type": "code",
      "metadata": {
        "colab": {
          "base_uri": "https://localhost:8080/"
        },
        "id": "XDM21NnD9N70",
        "outputId": "b1a2bc57-8c3d-45f6-812a-f0f1c6c3a812"
      },
      "source": [
        "print(y_test[0])\n",
        "print(preds[0])"
      ],
      "execution_count": null,
      "outputs": [
        {
          "output_type": "stream",
          "text": [
            "[1 0 0 0 0 1 0 0 0 1 0 0 0 0 1 0 0 0 0 1 0 0 0 0 0 0 0 0 0 0 0 0 0 0 0 0 0\n",
            " 0 0 0 0 0 0 0 0 0 0 0 0 0 0 0 0 0 0 0 0 0 0 0 0 0 0 0 0 0 0 0 0 0]\n",
            "[3.0280557e-01 1.4351488e-03 9.3734270e-01 4.4836682e-01 6.1049487e-04\n",
            " 9.5027849e-02 4.8430832e-03 2.7530463e-02 2.2042624e-03 1.0584107e-02\n",
            " 3.5420642e-03 5.7637177e-02 4.9780570e-02 7.4146092e-02 1.4188437e-02\n",
            " 2.8621312e-03 6.9504295e-04 2.8730083e-02 1.0598063e-04 1.0080998e-02\n",
            " 9.3486143e-04 1.1306849e-02 2.7730747e-03 3.4449038e-03 5.2142972e-03\n",
            " 2.3708080e-01 1.8769249e-03 3.1104231e-02 9.8843721e-04 2.9854677e-04\n",
            " 6.0571514e-02 4.6399448e-04 4.3673636e-03 2.4828030e-04 5.1985211e-03\n",
            " 1.3468048e-03 2.3277293e-04 2.7834901e-03 3.7179599e-04 3.2070531e-03\n",
            " 4.6012416e-03 3.4282815e-02 6.2471733e-04 1.7870417e-02 1.2117594e-03\n",
            " 1.9604026e-03 2.2880360e-03 8.3564259e-03 1.7823871e-02 2.4690450e-04\n",
            " 1.5727408e-02 4.7682840e-03 2.7069959e-03 1.5135811e-02 1.2987582e-02\n",
            " 6.7953654e-03 3.1817207e-04 1.7411768e-02 4.2078856e-04 2.3080057e-03\n",
            " 1.3278241e-02 5.3878091e-03 6.6818186e-04 1.9733129e-02 4.6604231e-02\n",
            " 9.1175415e-04 4.2018169e-04 1.7551417e-02 1.0805067e-02 2.7334457e-02]\n"
          ],
          "name": "stdout"
        }
      ]
    },
    {
      "cell_type": "code",
      "metadata": {
        "id": "MVBib5U69N70"
      },
      "source": [
        "from sklearn.metrics import f1_score\n",
        "\n",
        "threshold = [i*0.01 for i in range(100)]\n",
        "f1_score_list = []\n",
        "for t in threshold:\n",
        "  preds_int = (preds >= t).astype(int)\n",
        "  f1_score_list.append(f1_score(y_test, preds_int, average=\"weighted\"))"
      ],
      "execution_count": null,
      "outputs": []
    },
    {
      "cell_type": "code",
      "metadata": {
        "colab": {
          "base_uri": "https://localhost:8080/"
        },
        "id": "_M3tfuNY9N70",
        "outputId": "b3db802e-f789-438b-9945-5003b035ec14"
      },
      "source": [
        "len(threshold)\n",
        "len(f1_score_list)"
      ],
      "execution_count": null,
      "outputs": [
        {
          "output_type": "execute_result",
          "data": {
            "text/plain": [
              "100"
            ]
          },
          "metadata": {
            "tags": []
          },
          "execution_count": 85
        }
      ]
    },
    {
      "cell_type": "code",
      "metadata": {
        "colab": {
          "base_uri": "https://localhost:8080/",
          "height": 263
        },
        "id": "mBZHa6GD9N71",
        "outputId": "f1ed79af-77fa-49dc-b99b-d901449414c3"
      },
      "source": [
        "import matplotlib.pyplot as plt\n",
        "plt.plot(threshold, f1_score_list)\n",
        "plt.show()"
      ],
      "execution_count": null,
      "outputs": [
        {
          "output_type": "display_data",
          "data": {
            "image/png": "[encoded data removed]",
            "text/plain": [
              "<Figure size 432x288 with 1 Axes>"
            ]
          },
          "metadata": {
            "tags": [],
            "needs_background": "light"
          }
        }
      ]
    },
    {
      "cell_type": "code",
      "metadata": {
        "colab": {
          "base_uri": "https://localhost:8080/"
        },
        "id": "J4Rxg4XL9N71",
        "outputId": "94ced5dc-84ca-4173-bfa9-af96ba1345b8"
      },
      "source": [
        "# max(f1_score_list)\n",
        "opt_threshold = threshold[f1_score_list.index(max(f1_score_list))]\n",
        "print(opt_threshold)\n",
        "print(max(f1_score_list))"
      ],
      "execution_count": null,
      "outputs": [
        {
          "output_type": "stream",
          "text": [
            "0.1\n",
            "0.4125075543423088\n"
          ],
          "name": "stdout"
        }
      ]
    },
    {
      "cell_type": "markdown",
      "metadata": {
        "id": "qnhXsA4E9N72"
      },
      "source": [
        "### Example"
      ]
    },
    {
      "cell_type": "code",
      "metadata": {
        "id": "DnPCpzHs9N72"
      },
      "source": [
        "tags_pred = model.predict(padded_content)"
      ],
      "execution_count": null,
      "outputs": []
    },
    {
      "cell_type": "code",
      "metadata": {
        "colab": {
          "base_uri": "https://localhost:8080/"
        },
        "id": "V2_DHz5S9N72",
        "outputId": "f4a31bbf-eea7-481c-8e9e-9053d37890c9"
      },
      "source": [
        "def example_pred(i):\n",
        "  print(df_content['topic_id'][i])\n",
        "  print(df_content['title'][i])\n",
        "  print('=====')\n",
        "  print(df_content['content'][i][:500])\n",
        "  print('=====')\n",
        "  print('Actual Tag')\n",
        "  print(df_content['tags'][i])\n",
        "  print('=====')\n",
        "  print('Predicted Tags')\n",
        "\n",
        "  tags_pred_idx = tags_pred[i] >= opt_threshold\n",
        "  tags_pred_i = []\n",
        "  for j, k in enumerate(tags_pred_idx):\n",
        "    if k:\n",
        "      tags_pred_i.append(idx_to_tag[j])\n",
        "  print(tags_pred_i)\n",
        "  print('=====')\n",
        "  print('Corrected')\n",
        "  corrected_tags = set(tags_pred_i).intersection(set(df_content['tags'][i]))\n",
        "  print(corrected_tags)\n",
        "  print('=======================')\n",
        "  print('=======================\\n')\n",
        "\n",
        "example_pred(501)\n",
        "example_pred(627)\n",
        "example_pred(8627)\n",
        "example_pred(7532)"
      ],
      "execution_count": null,
      "outputs": [
        {
          "output_type": "stream",
          "text": [
            "40482209\n",
            "[Travelling As A Couple] ทริปพักผ่อนชิลๆ ที่กระบี่ ที่พักดีงาม Pimalai Resort &Spa\n",
            "=====\n",
            "\n",
            "\n",
            "หลังจากโควิดระบาดเราก็ไม่ได้นั่งเครื่องบินออกนอกประเทศเลย เลยต้องหาที่เที่ยวในประเทศ ไปเที่ยวพักผ่อนบ้าง สำหรับบ้านเราถ้าให้เลือกระหว่างทะเลกับภูเขา ทะเลก็ยังคงเป็นที่หนึ่งในใจเสมอ\n",
            "\n",
            "ทริปนี้เลยเลือกมาทะเลทางใต้ดูบ้าง ก่อนหน้าไปหัวหิน พัทยา มาจนเบื่อแล้ว แต่ลงใต้มาหลายที แต่ยังไม่เคยได้แวะเวียนมาเที่ยวกระบี่ซักที และนี่คือครั้งแรกที่เราจะไปเที่ยวกระบี่ ทริปนี้กะไว้แล้วว่าไปเที่ยวแบบพักผ่อนจริงๆ นอนอยู่โรงแรม เล่นน้ำ ทำกิจกรรมภายในโรงแรม ไม่ออกไปไหนเยอะ เพื่อลดความเสี่ยงหลายๆ อย่าง เลยต้องเลือกโร\n",
            "=====\n",
            "Actual Tag\n",
            "['เที่ยวทะเล', 'จังหวัดกระบี่', 'บันทึกนักเดินทาง', 'สถานที่ท่องเที่ยวในประเทศ', 'สถานที่ท่องเที่ยวสำหรับครอบครัว']\n",
            "=====\n",
            "Predicted Tags\n",
            "['บันทึกนักเดินทาง', 'เที่ยวไทย', 'สถานที่ท่องเที่ยวในประเทศ', 'โรงแรมรีสอร์ท', 'ภาพถ่ายทิวทัศน์', 'One_Day_Trip', 'คาเฟ่_(Cafe)', 'สถานที่ท่องเที่ยวสำหรับครอบครัว', 'ร้านกาแฟ']\n",
            "=====\n",
            "Corrected\n",
            "{'บันทึกนักเดินทาง', 'สถานที่ท่องเที่ยวในประเทศ', 'สถานที่ท่องเที่ยวสำหรับครอบครัว'}\n",
            "=======================\n",
            "=======================\n",
            "\n",
            "40437348\n",
            "อุบลราชธานี: พระอาทิตย์ขึ้นก่อนใคร ที่สุดขอบแดนอีสาน\n",
            "=====\n",
            "\n",
            "สวัสดีครับ\n",
            "\n",
            "กลับมาเจอกันอีกแล้วนะครับ ท่ามกลางช่วงเวลาที่โควิด-19 ถล่มแทบทั้งโลกแบบนี้ เพื่อความปลอดภัยของตัวเราและเพื่อช่วยประเทศเรา ปีนี้เราก็เที่ยวในประเทศกันไปรัวๆครับ\n",
            "ทริปนี้เป็นทริปที่เราไปมาช่วงเดือนพฤศจิกายนที่ผ่านมา ก่อนที่โควิด-19จะมาระเบิดในเมืองไทย สำหรับคราวนี้เป็นทริปสั้นๆครับ เราไปกันที่จังหวัดอันโด่งดังแห่งแดนอีสาน นั่นก็คือ อุบลราชธานี นั่นเองครับ \n",
            "\n",
            "มาพูดถึงจังหวัดนี้กันซักหน่อยนะครับ อุบลราชธานีเป็นจังหวัดที่ตั้งอยู่ทางตะวันออกที่สุดของภาคตะวันออกเฉียงเหนือของไทย เป็นจังหวัดที\n",
            "=====\n",
            "Actual Tag\n",
            "['การท่องเที่ยวแห่งประเทศไทย', 'ภาพถ่ายทิวทัศน์', 'บันทึกนักเดินทาง', 'สถานที่ท่องเที่ยวในประเทศ', 'เที่ยวไทย']\n",
            "=====\n",
            "Predicted Tags\n",
            "['บันทึกนักเดินทาง', 'เที่ยวไทย', 'สถานที่ท่องเที่ยวในประเทศ', 'ภาพถ่ายทิวทัศน์', 'เที่ยวภูเขา', 'เที่ยวเชิงอนุรักษ์', 'ภาพถ่าย']\n",
            "=====\n",
            "Corrected\n",
            "{'ภาพถ่ายทิวทัศน์', 'สถานที่ท่องเที่ยวในประเทศ', 'เที่ยวไทย', 'บันทึกนักเดินทาง'}\n",
            "=======================\n",
            "=======================\n",
            "\n",
            "38934824\n",
            "(Mom's Day In Macau) มาเก๊า-ฮ่องกง ง่ายๆ พ่อแม่ก็ไปได้\n",
            "=====\n",
            "\n",
            "\n",
            "\n",
            "\n",
            "Mom's Day In Macau\n",
            "สวัสดีทุกคนค่ะ หลังจากห่างหายการรีวิวเรื่องเที่ยวมานาน\n",
            "ถึงแม้ว่าจะเที่ยวไม่ขาดสาย เพราะความขี้เกียจ เลยไม่ได้มาลงเสียนาน วันนี้เลยได้ฤกษ์เอาคอมมาปัดฝุ่น ลงรีวิวให้ทุกคนได้อ่านกัน\n",
            "แต่อย่าเรียกมันว่ารีวิวเลยค่ะ ถือว่าเป็นบันทึกการท่องเที่ยวของเราที่แบ่งปันให้ทุกคนอ่านจะดีกว่า\n",
            "คราวนี้ เราได้มีโอกาสไปเที่ยวประเทศใกล้ๆ อย่างมาเก๊า กับฮ่องกง เมื่อช่วงปลายเดือนพฤษภาคมที่ผ่านมา\n",
            "แต่ว่าเราไม่ได้ไปคนเดียว ยกโขยงกันไปทั้งบ้าน ซึ่งประกอบด้วยพ่อ แม่ และน้องสาวของเราอีกคน\n",
            "ตอนแรก แพลนนี้ไ\n",
            "=====\n",
            "Actual Tag\n",
            "['เที่ยวต่างประเทศ', 'บันทึกนักเดินทาง', 'มาเก๊า', 'แผนการเดินทางและท่องเที่ยว']\n",
            "=====\n",
            "Predicted Tags\n",
            "['บันทึกนักเดินทาง', 'สถานที่ท่องเที่ยวต่างประเทศ', 'ภาพถ่ายทิวทัศน์', 'สถานที่ท่องเที่ยว', 'นักท่องเที่ยว', 'One_Day_Trip', 'ร้านอาหาร', 'ภาพถ่ายจากกล้องโทรศัพท์', 'ประเทศญี่ปุ่น']\n",
            "=====\n",
            "Corrected\n",
            "{'บันทึกนักเดินทาง'}\n",
            "=======================\n",
            "=======================\n",
            "\n",
            "39093289\n",
            "เที่ยวพม่าหน้าหนาว เช่ารถพร้อมคนขับ เมืองพิลอูวิน pyin oo lwin และสีป้อ Hsipaw Day2/6\n",
            "=====\n",
            "\r\n",
            "\t\t\t\t\t\t\t\t\t\t\t\t\t\t\t\t      หลังจากที่ทีมเราได้ท่องเที่ยวพม่าทริปที่สองกับเพื่อนๆ ที่ย่างกุ้ง หงสาวดี มัณฑะเลย์   กับ Mr.Tun Tun  คนขับรถและเป็นไกด์ด้วย ประทับใจในการบริการที่ดีเยี่ยม ได้ติดต่อพูดคุยกับทางไลน์ และเฟสบุค กันเรื่อยมา  และมีเพื่อนๆพี่น้องในทริปที่ผ่านมาติดใจในการท่องเที่ยวแบบที่ได้วางแผนกันเอง จึงอยากจะไปเที่ยวพม่าที่เมืองอื่นแบบบรรยากาศธรรมชาติหน้าหนาวกันอีกบ้าง จึงได้รวบรวมสมาชิกได้ 9 คน ตั้งกรุฟไลน์กรุฟ ชื่อว่า \"Winter 19@Chan stage\"   เกิดทริปสุดแสนประทับใจแบบสุดคุ้มอีกครั้ง หลังจา\n",
            "=====\n",
            "Actual Tag\n",
            "['สถานที่ท่องเที่ยวต่างประเทศ', 'บันทึกนักเดินทาง', 'ประเทศพม่า', 'นักท่องเที่ยว', 'เที่ยวต่างประเทศ']\n",
            "=====\n",
            "Predicted Tags\n",
            "['บันทึกนักเดินทาง', 'เที่ยวต่างประเทศ', 'สถานที่ท่องเที่ยวต่างประเทศ', 'Backpack', 'ภาพถ่ายทิวทัศน์', 'สถานที่ท่องเที่ยว']\n",
            "=====\n",
            "Corrected\n",
            "{'บันทึกนักเดินทาง', 'สถานที่ท่องเที่ยวต่างประเทศ', 'เที่ยวต่างประเทศ'}\n",
            "=======================\n",
            "=======================\n",
            "\n"
          ],
          "name": "stdout"
        }
      ]
    },
    {
      "cell_type": "code",
      "metadata": {
        "id": "lueiKhr59N73"
      },
      "source": [
        ""
      ],
      "execution_count": null,
      "outputs": []
    }
  ]
}